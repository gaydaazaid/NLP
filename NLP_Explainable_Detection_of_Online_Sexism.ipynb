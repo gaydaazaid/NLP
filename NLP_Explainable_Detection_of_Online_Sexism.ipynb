{
  "cells": [
    {
      "cell_type": "markdown",
      "metadata": {
        "id": "t_kFpdHJRUBa"
      },
      "source": [
        "### Import all needed Libraries"
      ]
    },
    {
      "cell_type": "code",
      "execution_count": null,
      "metadata": {
        "id": "qwHQv75ykPzk"
      },
      "outputs": [],
      "source": [
        "import pandas as pd\n",
        "import re \n",
        "import nltk\n",
        "from nltk.corpus import stopwords\n",
        "import matplotlib.pyplot as plt\n",
        "import numpy as np\n",
        "from sklearn.model_selection import train_test_split\n",
        "from sklearn.metrics import classification_report\n",
        "from sklearn.feature_extraction.text import TfidfVectorizer\n",
        "from sklearn.feature_extraction.text import CountVectorizer\n",
        "from sklearn.metrics import f1_score\n",
        "import sklearn.metrics as metrics\n",
        "from sklearn.metrics import accuracy_score\n",
        "import seaborn as sns\n"
      ]
    },
    {
      "cell_type": "code",
      "execution_count": null,
      "metadata": {
        "colab": {
          "base_uri": "https://localhost:8080/"
        },
        "id": "plXcyn1uwX_O",
        "outputId": "ba34b15d-0387-4867-fc3f-c6ae033e7906"
      },
      "outputs": [
        {
          "output_type": "stream",
          "name": "stderr",
          "text": [
            "[nltk_data] Downloading collection 'popular'\n",
            "[nltk_data]    | \n",
            "[nltk_data]    | Downloading package cmudict to /root/nltk_data...\n",
            "[nltk_data]    |   Unzipping corpora/cmudict.zip.\n",
            "[nltk_data]    | Downloading package gazetteers to /root/nltk_data...\n",
            "[nltk_data]    |   Unzipping corpora/gazetteers.zip.\n",
            "[nltk_data]    | Downloading package genesis to /root/nltk_data...\n",
            "[nltk_data]    |   Unzipping corpora/genesis.zip.\n",
            "[nltk_data]    | Downloading package gutenberg to /root/nltk_data...\n",
            "[nltk_data]    |   Unzipping corpora/gutenberg.zip.\n",
            "[nltk_data]    | Downloading package inaugural to /root/nltk_data...\n",
            "[nltk_data]    |   Unzipping corpora/inaugural.zip.\n",
            "[nltk_data]    | Downloading package movie_reviews to\n",
            "[nltk_data]    |     /root/nltk_data...\n",
            "[nltk_data]    |   Unzipping corpora/movie_reviews.zip.\n",
            "[nltk_data]    | Downloading package names to /root/nltk_data...\n",
            "[nltk_data]    |   Unzipping corpora/names.zip.\n",
            "[nltk_data]    | Downloading package shakespeare to /root/nltk_data...\n",
            "[nltk_data]    |   Unzipping corpora/shakespeare.zip.\n",
            "[nltk_data]    | Downloading package stopwords to /root/nltk_data...\n",
            "[nltk_data]    |   Unzipping corpora/stopwords.zip.\n",
            "[nltk_data]    | Downloading package treebank to /root/nltk_data...\n",
            "[nltk_data]    |   Unzipping corpora/treebank.zip.\n",
            "[nltk_data]    | Downloading package twitter_samples to\n",
            "[nltk_data]    |     /root/nltk_data...\n",
            "[nltk_data]    |   Unzipping corpora/twitter_samples.zip.\n",
            "[nltk_data]    | Downloading package omw to /root/nltk_data...\n",
            "[nltk_data]    | Downloading package omw-1.4 to /root/nltk_data...\n",
            "[nltk_data]    | Downloading package wordnet to /root/nltk_data...\n",
            "[nltk_data]    | Downloading package wordnet2021 to /root/nltk_data...\n",
            "[nltk_data]    | Downloading package wordnet31 to /root/nltk_data...\n",
            "[nltk_data]    | Downloading package wordnet_ic to /root/nltk_data...\n",
            "[nltk_data]    |   Unzipping corpora/wordnet_ic.zip.\n",
            "[nltk_data]    | Downloading package words to /root/nltk_data...\n",
            "[nltk_data]    |   Unzipping corpora/words.zip.\n",
            "[nltk_data]    | Downloading package maxent_ne_chunker to\n",
            "[nltk_data]    |     /root/nltk_data...\n",
            "[nltk_data]    |   Unzipping chunkers/maxent_ne_chunker.zip.\n",
            "[nltk_data]    | Downloading package punkt to /root/nltk_data...\n",
            "[nltk_data]    |   Unzipping tokenizers/punkt.zip.\n",
            "[nltk_data]    | Downloading package snowball_data to\n",
            "[nltk_data]    |     /root/nltk_data...\n",
            "[nltk_data]    | Downloading package averaged_perceptron_tagger to\n",
            "[nltk_data]    |     /root/nltk_data...\n",
            "[nltk_data]    |   Unzipping taggers/averaged_perceptron_tagger.zip.\n",
            "[nltk_data]    | \n",
            "[nltk_data]  Done downloading collection popular\n"
          ]
        },
        {
          "output_type": "execute_result",
          "data": {
            "text/plain": [
              "True"
            ]
          },
          "metadata": {},
          "execution_count": 2
        }
      ],
      "source": [
        "nltk.download('popular')"
      ]
    },
    {
      "cell_type": "markdown",
      "metadata": {
        "id": "PeVc58PqP6Nf"
      },
      "source": [
        "<a></a>\n",
        "## 1. Get the Data"
      ]
    },
    {
      "cell_type": "code",
      "execution_count": null,
      "metadata": {
        "id": "CSSdwwEev9EG"
      },
      "outputs": [],
      "source": [
        "train = pd.read_csv('/content/train_all_tasks.csv')"
      ]
    },
    {
      "cell_type": "code",
      "execution_count": null,
      "metadata": {
        "id": "cqo_HKb4x4-a"
      },
      "outputs": [],
      "source": [
        "train_task_A = train[['text', 'label_sexist']]"
      ]
    },
    {
      "cell_type": "markdown",
      "metadata": {
        "id": "nFWYdLHkjitJ"
      },
      "source": [
        "## 2- Discover and visualize the data\n"
      ]
    },
    {
      "cell_type": "code",
      "execution_count": null,
      "metadata": {
        "colab": {
          "base_uri": "https://localhost:8080/",
          "height": 143
        },
        "id": "AleubaKDeO2u",
        "outputId": "deb9ac4a-ba03-4341-948e-a6402bb827f8"
      },
      "outputs": [
        {
          "output_type": "execute_result",
          "data": {
            "text/plain": [
              "                                                text label_sexist\n",
              "0              Damn, this writing was pretty chaotic   not sexist\n",
              "1  Yeah, and apparently a bunch of misogynistic v...   not sexist\n",
              "2       How the FUCK is this woman still an MP!!!???   not sexist"
            ],
            "text/html": [
              "\n",
              "  <div id=\"df-d851ec72-1dd1-4faf-85cc-d5e37b985014\">\n",
              "    <div class=\"colab-df-container\">\n",
              "      <div>\n",
              "<style scoped>\n",
              "    .dataframe tbody tr th:only-of-type {\n",
              "        vertical-align: middle;\n",
              "    }\n",
              "\n",
              "    .dataframe tbody tr th {\n",
              "        vertical-align: top;\n",
              "    }\n",
              "\n",
              "    .dataframe thead th {\n",
              "        text-align: right;\n",
              "    }\n",
              "</style>\n",
              "<table border=\"1\" class=\"dataframe\">\n",
              "  <thead>\n",
              "    <tr style=\"text-align: right;\">\n",
              "      <th></th>\n",
              "      <th>text</th>\n",
              "      <th>label_sexist</th>\n",
              "    </tr>\n",
              "  </thead>\n",
              "  <tbody>\n",
              "    <tr>\n",
              "      <th>0</th>\n",
              "      <td>Damn, this writing was pretty chaotic</td>\n",
              "      <td>not sexist</td>\n",
              "    </tr>\n",
              "    <tr>\n",
              "      <th>1</th>\n",
              "      <td>Yeah, and apparently a bunch of misogynistic v...</td>\n",
              "      <td>not sexist</td>\n",
              "    </tr>\n",
              "    <tr>\n",
              "      <th>2</th>\n",
              "      <td>How the FUCK is this woman still an MP!!!???</td>\n",
              "      <td>not sexist</td>\n",
              "    </tr>\n",
              "  </tbody>\n",
              "</table>\n",
              "</div>\n",
              "      <button class=\"colab-df-convert\" onclick=\"convertToInteractive('df-d851ec72-1dd1-4faf-85cc-d5e37b985014')\"\n",
              "              title=\"Convert this dataframe to an interactive table.\"\n",
              "              style=\"display:none;\">\n",
              "        \n",
              "  <svg xmlns=\"http://www.w3.org/2000/svg\" height=\"24px\"viewBox=\"0 0 24 24\"\n",
              "       width=\"24px\">\n",
              "    <path d=\"M0 0h24v24H0V0z\" fill=\"none\"/>\n",
              "    <path d=\"M18.56 5.44l.94 2.06.94-2.06 2.06-.94-2.06-.94-.94-2.06-.94 2.06-2.06.94zm-11 1L8.5 8.5l.94-2.06 2.06-.94-2.06-.94L8.5 2.5l-.94 2.06-2.06.94zm10 10l.94 2.06.94-2.06 2.06-.94-2.06-.94-.94-2.06-.94 2.06-2.06.94z\"/><path d=\"M17.41 7.96l-1.37-1.37c-.4-.4-.92-.59-1.43-.59-.52 0-1.04.2-1.43.59L10.3 9.45l-7.72 7.72c-.78.78-.78 2.05 0 2.83L4 21.41c.39.39.9.59 1.41.59.51 0 1.02-.2 1.41-.59l7.78-7.78 2.81-2.81c.8-.78.8-2.07 0-2.86zM5.41 20L4 18.59l7.72-7.72 1.47 1.35L5.41 20z\"/>\n",
              "  </svg>\n",
              "      </button>\n",
              "      \n",
              "  <style>\n",
              "    .colab-df-container {\n",
              "      display:flex;\n",
              "      flex-wrap:wrap;\n",
              "      gap: 12px;\n",
              "    }\n",
              "\n",
              "    .colab-df-convert {\n",
              "      background-color: #E8F0FE;\n",
              "      border: none;\n",
              "      border-radius: 50%;\n",
              "      cursor: pointer;\n",
              "      display: none;\n",
              "      fill: #1967D2;\n",
              "      height: 32px;\n",
              "      padding: 0 0 0 0;\n",
              "      width: 32px;\n",
              "    }\n",
              "\n",
              "    .colab-df-convert:hover {\n",
              "      background-color: #E2EBFA;\n",
              "      box-shadow: 0px 1px 2px rgba(60, 64, 67, 0.3), 0px 1px 3px 1px rgba(60, 64, 67, 0.15);\n",
              "      fill: #174EA6;\n",
              "    }\n",
              "\n",
              "    [theme=dark] .colab-df-convert {\n",
              "      background-color: #3B4455;\n",
              "      fill: #D2E3FC;\n",
              "    }\n",
              "\n",
              "    [theme=dark] .colab-df-convert:hover {\n",
              "      background-color: #434B5C;\n",
              "      box-shadow: 0px 1px 3px 1px rgba(0, 0, 0, 0.15);\n",
              "      filter: drop-shadow(0px 1px 2px rgba(0, 0, 0, 0.3));\n",
              "      fill: #FFFFFF;\n",
              "    }\n",
              "  </style>\n",
              "\n",
              "      <script>\n",
              "        const buttonEl =\n",
              "          document.querySelector('#df-d851ec72-1dd1-4faf-85cc-d5e37b985014 button.colab-df-convert');\n",
              "        buttonEl.style.display =\n",
              "          google.colab.kernel.accessAllowed ? 'block' : 'none';\n",
              "\n",
              "        async function convertToInteractive(key) {\n",
              "          const element = document.querySelector('#df-d851ec72-1dd1-4faf-85cc-d5e37b985014');\n",
              "          const dataTable =\n",
              "            await google.colab.kernel.invokeFunction('convertToInteractive',\n",
              "                                                     [key], {});\n",
              "          if (!dataTable) return;\n",
              "\n",
              "          const docLinkHtml = 'Like what you see? Visit the ' +\n",
              "            '<a target=\"_blank\" href=https://colab.research.google.com/notebooks/data_table.ipynb>data table notebook</a>'\n",
              "            + ' to learn more about interactive tables.';\n",
              "          element.innerHTML = '';\n",
              "          dataTable['output_type'] = 'display_data';\n",
              "          await google.colab.output.renderOutput(dataTable, element);\n",
              "          const docLink = document.createElement('div');\n",
              "          docLink.innerHTML = docLinkHtml;\n",
              "          element.appendChild(docLink);\n",
              "        }\n",
              "      </script>\n",
              "    </div>\n",
              "  </div>\n",
              "  "
            ]
          },
          "metadata": {},
          "execution_count": 5
        }
      ],
      "source": [
        "train_task_A.head(3)"
      ]
    },
    {
      "cell_type": "code",
      "execution_count": null,
      "metadata": {
        "colab": {
          "base_uri": "https://localhost:8080/"
        },
        "id": "vAS9wBdykb-v",
        "outputId": "4bf78a91-b1ef-4cd4-a764-003d364642ff"
      },
      "outputs": [
        {
          "output_type": "stream",
          "name": "stdout",
          "text": [
            "The training set shape is (14000, 2), 14000 rows and 2 columns(features).\n"
          ]
        }
      ],
      "source": [
        "print(f\"The training set shape is {train_task_A.shape}, {train_task_A.shape[0]} rows and {train_task_A.shape[1]} columns(features).\")"
      ]
    },
    {
      "cell_type": "code",
      "execution_count": null,
      "metadata": {
        "colab": {
          "base_uri": "https://localhost:8080/"
        },
        "id": "aPs0N09-GxHU",
        "outputId": "7bf782ff-638d-4b38-9b01-f00589f445ab"
      },
      "outputs": [
        {
          "output_type": "stream",
          "name": "stdout",
          "text": [
            "<class 'pandas.core.frame.DataFrame'>\n",
            "RangeIndex: 14000 entries, 0 to 13999\n",
            "Data columns (total 2 columns):\n",
            " #   Column        Non-Null Count  Dtype \n",
            "---  ------        --------------  ----- \n",
            " 0   text          14000 non-null  object\n",
            " 1   label_sexist  14000 non-null  object\n",
            "dtypes: object(2)\n",
            "memory usage: 218.9+ KB\n"
          ]
        }
      ],
      "source": [
        "train_task_A.info()"
      ]
    },
    {
      "cell_type": "code",
      "execution_count": null,
      "metadata": {
        "colab": {
          "base_uri": "https://localhost:8080/"
        },
        "id": "rvVSlnQOv9EN",
        "outputId": "ab4f134d-5584-4689-dc97-884397c6cabe"
      },
      "outputs": [
        {
          "output_type": "execute_result",
          "data": {
            "text/plain": [
              "text            0\n",
              "label_sexist    0\n",
              "dtype: int64"
            ]
          },
          "metadata": {},
          "execution_count": 8
        }
      ],
      "source": [
        "train_task_A.isna().sum()"
      ]
    },
    {
      "cell_type": "code",
      "execution_count": null,
      "metadata": {
        "colab": {
          "base_uri": "https://localhost:8080/"
        },
        "id": "PVAx8HpVv9EO",
        "outputId": "d91a09ee-ffeb-4263-bbc3-205ece3c662e"
      },
      "outputs": [
        {
          "output_type": "execute_result",
          "data": {
            "text/plain": [
              "0"
            ]
          },
          "metadata": {},
          "execution_count": 9
        }
      ],
      "source": [
        "train_task_A.duplicated().sum()"
      ]
    },
    {
      "cell_type": "markdown",
      "source": [
        "As shown there is an unbalance  between the two classes "
      ],
      "metadata": {
        "id": "oUBOiTBpad3h"
      }
    },
    {
      "cell_type": "code",
      "source": [
        "plt.figure(figsize=(10,10))\n",
        "ax = sns.countplot(x=train_task_A[\"label_sexist\"],  data=train_task_A, order = train_task_A[\"label_sexist\"].value_counts().index )\n",
        "for p, label in zip(ax.patches, train_task_A[\"label_sexist\"].value_counts()):   \n",
        "    ax.annotate(label, (p.get_x()+0.25, p.get_height()+0.5))"
      ],
      "metadata": {
        "colab": {
          "base_uri": "https://localhost:8080/",
          "height": 606
        },
        "id": "B-i8TSY753jf",
        "outputId": "0d40209a-fb63-4a0a-82ee-81f8b6055477"
      },
      "execution_count": null,
      "outputs": [
        {
          "output_type": "display_data",
          "data": {
            "text/plain": [
              "<Figure size 720x720 with 1 Axes>"
            ],
            "image/png": "[encoded data removed]"
          },
          "metadata": {
            "needs_background": "light"
          }
        }
      ]
    },
    {
      "cell_type": "code",
      "source": [
        "train_task_A['label_sexist'].value_counts().head(10).plot.pie(autopct='%1.1f%%')\n"
      ],
      "metadata": {
        "colab": {
          "base_uri": "https://localhost:8080/",
          "height": 265
        },
        "id": "9X1hmVi57Xe-",
        "outputId": "0eb4f0a5-e538-42b3-8457-de9a8cf1f912"
      },
      "execution_count": null,
      "outputs": [
        {
          "output_type": "execute_result",
          "data": {
            "text/plain": [
              "<matplotlib.axes._subplots.AxesSubplot at 0x7f69ea43c6d0>"
            ]
          },
          "metadata": {},
          "execution_count": 11
        },
        {
          "output_type": "display_data",
          "data": {
            "text/plain": [
              "<Figure size 432x288 with 1 Axes>"
            ],
            "image/png": "[encoded data removed]"
          },
          "metadata": {}
        }
      ]
    },
    {
      "cell_type": "markdown",
      "metadata": {
        "id": "X1plsWCKuaRG"
      },
      "source": [
        "## 3- Prepare the data\n",
        "###  Data Cleaning \n",
        "\n",
        " \n",
        " "
      ]
    },
    {
      "cell_type": "code",
      "execution_count": null,
      "metadata": {
        "colab": {
          "base_uri": "https://localhost:8080/"
        },
        "id": "0gRjuAzZxgRH",
        "outputId": "b0990931-c2fd-47f9-d18d-9509c5f884db"
      },
      "outputs": [
        {
          "output_type": "stream",
          "name": "stderr",
          "text": [
            "<ipython-input-12-038664c6b2c7>:4: SettingWithCopyWarning: \n",
            "A value is trying to be set on a copy of a slice from a DataFrame.\n",
            "Try using .loc[row_indexer,col_indexer] = value instead\n",
            "\n",
            "See the caveats in the documentation: https://pandas.pydata.org/pandas-docs/stable/user_guide/indexing.html#returning-a-view-versus-a-copy\n",
            "  train_task_A['label_sexist'] = new_label\n"
          ]
        }
      ],
      "source": [
        "# Encoding the label (not sexist --> 0 , sexist --> 1)\n",
        "\n",
        "new_label = [0 if x == 'not sexist' else 1 for x in train_task_A['label_sexist']]\n",
        "train_task_A['label_sexist'] = new_label"
      ]
    },
    {
      "cell_type": "code",
      "execution_count": null,
      "metadata": {
        "colab": {
          "base_uri": "https://localhost:8080/",
          "height": 112
        },
        "id": "98VE-vhqkX1J",
        "outputId": "b60813ef-f62e-438d-f606-4c65e7671703"
      },
      "outputs": [
        {
          "output_type": "execute_result",
          "data": {
            "text/plain": [
              "                                                text  label_sexist\n",
              "0              Damn, this writing was pretty chaotic             0\n",
              "1  Yeah, and apparently a bunch of misogynistic v...             0"
            ],
            "text/html": [
              "\n",
              "  <div id=\"df-644e0e0b-e840-48a8-b77f-9c915914d41f\">\n",
              "    <div class=\"colab-df-container\">\n",
              "      <div>\n",
              "<style scoped>\n",
              "    .dataframe tbody tr th:only-of-type {\n",
              "        vertical-align: middle;\n",
              "    }\n",
              "\n",
              "    .dataframe tbody tr th {\n",
              "        vertical-align: top;\n",
              "    }\n",
              "\n",
              "    .dataframe thead th {\n",
              "        text-align: right;\n",
              "    }\n",
              "</style>\n",
              "<table border=\"1\" class=\"dataframe\">\n",
              "  <thead>\n",
              "    <tr style=\"text-align: right;\">\n",
              "      <th></th>\n",
              "      <th>text</th>\n",
              "      <th>label_sexist</th>\n",
              "    </tr>\n",
              "  </thead>\n",
              "  <tbody>\n",
              "    <tr>\n",
              "      <th>0</th>\n",
              "      <td>Damn, this writing was pretty chaotic</td>\n",
              "      <td>0</td>\n",
              "    </tr>\n",
              "    <tr>\n",
              "      <th>1</th>\n",
              "      <td>Yeah, and apparently a bunch of misogynistic v...</td>\n",
              "      <td>0</td>\n",
              "    </tr>\n",
              "  </tbody>\n",
              "</table>\n",
              "</div>\n",
              "      <button class=\"colab-df-convert\" onclick=\"convertToInteractive('df-644e0e0b-e840-48a8-b77f-9c915914d41f')\"\n",
              "              title=\"Convert this dataframe to an interactive table.\"\n",
              "              style=\"display:none;\">\n",
              "        \n",
              "  <svg xmlns=\"http://www.w3.org/2000/svg\" height=\"24px\"viewBox=\"0 0 24 24\"\n",
              "       width=\"24px\">\n",
              "    <path d=\"M0 0h24v24H0V0z\" fill=\"none\"/>\n",
              "    <path d=\"M18.56 5.44l.94 2.06.94-2.06 2.06-.94-2.06-.94-.94-2.06-.94 2.06-2.06.94zm-11 1L8.5 8.5l.94-2.06 2.06-.94-2.06-.94L8.5 2.5l-.94 2.06-2.06.94zm10 10l.94 2.06.94-2.06 2.06-.94-2.06-.94-.94-2.06-.94 2.06-2.06.94z\"/><path d=\"M17.41 7.96l-1.37-1.37c-.4-.4-.92-.59-1.43-.59-.52 0-1.04.2-1.43.59L10.3 9.45l-7.72 7.72c-.78.78-.78 2.05 0 2.83L4 21.41c.39.39.9.59 1.41.59.51 0 1.02-.2 1.41-.59l7.78-7.78 2.81-2.81c.8-.78.8-2.07 0-2.86zM5.41 20L4 18.59l7.72-7.72 1.47 1.35L5.41 20z\"/>\n",
              "  </svg>\n",
              "      </button>\n",
              "      \n",
              "  <style>\n",
              "    .colab-df-container {\n",
              "      display:flex;\n",
              "      flex-wrap:wrap;\n",
              "      gap: 12px;\n",
              "    }\n",
              "\n",
              "    .colab-df-convert {\n",
              "      background-color: #E8F0FE;\n",
              "      border: none;\n",
              "      border-radius: 50%;\n",
              "      cursor: pointer;\n",
              "      display: none;\n",
              "      fill: #1967D2;\n",
              "      height: 32px;\n",
              "      padding: 0 0 0 0;\n",
              "      width: 32px;\n",
              "    }\n",
              "\n",
              "    .colab-df-convert:hover {\n",
              "      background-color: #E2EBFA;\n",
              "      box-shadow: 0px 1px 2px rgba(60, 64, 67, 0.3), 0px 1px 3px 1px rgba(60, 64, 67, 0.15);\n",
              "      fill: #174EA6;\n",
              "    }\n",
              "\n",
              "    [theme=dark] .colab-df-convert {\n",
              "      background-color: #3B4455;\n",
              "      fill: #D2E3FC;\n",
              "    }\n",
              "\n",
              "    [theme=dark] .colab-df-convert:hover {\n",
              "      background-color: #434B5C;\n",
              "      box-shadow: 0px 1px 3px 1px rgba(0, 0, 0, 0.15);\n",
              "      filter: drop-shadow(0px 1px 2px rgba(0, 0, 0, 0.3));\n",
              "      fill: #FFFFFF;\n",
              "    }\n",
              "  </style>\n",
              "\n",
              "      <script>\n",
              "        const buttonEl =\n",
              "          document.querySelector('#df-644e0e0b-e840-48a8-b77f-9c915914d41f button.colab-df-convert');\n",
              "        buttonEl.style.display =\n",
              "          google.colab.kernel.accessAllowed ? 'block' : 'none';\n",
              "\n",
              "        async function convertToInteractive(key) {\n",
              "          const element = document.querySelector('#df-644e0e0b-e840-48a8-b77f-9c915914d41f');\n",
              "          const dataTable =\n",
              "            await google.colab.kernel.invokeFunction('convertToInteractive',\n",
              "                                                     [key], {});\n",
              "          if (!dataTable) return;\n",
              "\n",
              "          const docLinkHtml = 'Like what you see? Visit the ' +\n",
              "            '<a target=\"_blank\" href=https://colab.research.google.com/notebooks/data_table.ipynb>data table notebook</a>'\n",
              "            + ' to learn more about interactive tables.';\n",
              "          element.innerHTML = '';\n",
              "          dataTable['output_type'] = 'display_data';\n",
              "          await google.colab.output.renderOutput(dataTable, element);\n",
              "          const docLink = document.createElement('div');\n",
              "          docLink.innerHTML = docLinkHtml;\n",
              "          element.appendChild(docLink);\n",
              "        }\n",
              "      </script>\n",
              "    </div>\n",
              "  </div>\n",
              "  "
            ]
          },
          "metadata": {},
          "execution_count": 13
        }
      ],
      "source": [
        "train_task_A.head(2)"
      ]
    },
    {
      "cell_type": "code",
      "execution_count": null,
      "metadata": {
        "id": "F_9YoRUQxgFl"
      },
      "outputs": [],
      "source": [
        "# to check the functions\n",
        "def test_cleaning(function, sample):\n",
        "  print(sample, function(sample), sep='\\n')"
      ]
    },
    {
      "cell_type": "markdown",
      "metadata": {
        "id": "BDtIfqWfzO73"
      },
      "source": [
        "### Remove Stopwords"
      ]
    },
    {
      "cell_type": "code",
      "execution_count": null,
      "metadata": {
        "colab": {
          "base_uri": "https://localhost:8080/"
        },
        "id": "B0V8hjQXxgDE",
        "outputId": "fa838e18-c7bf-4b44-be1e-50aaf341ad04"
      },
      "outputs": [
        {
          "output_type": "stream",
          "name": "stdout",
          "text": [
            "Damn, this writing was pretty chaotic\n",
            "Damn, writing pretty chaotic\n"
          ]
        }
      ],
      "source": [
        "stop_words = stopwords.words('english')\n",
        "\n",
        "def remove_stopwords(text):\n",
        "  return \" \".join([word for word in text.split(\" \") if word not in stop_words])\n",
        "\n",
        "test_cleaning(remove_stopwords, train_task_A['text'][0])"
      ]
    },
    {
      "cell_type": "markdown",
      "metadata": {
        "id": "WEODhWrQzcYR"
      },
      "source": [
        "### Remove Hashtages"
      ]
    },
    {
      "cell_type": "code",
      "execution_count": null,
      "metadata": {
        "colab": {
          "base_uri": "https://localhost:8080/"
        },
        "id": "BtHvdS88xf9q",
        "outputId": "156a30b4-eb1a-476f-a720-e07978f326d5"
      },
      "outputs": [
        {
          "output_type": "stream",
          "name": "stdout",
          "text": [
            "#cjndds akia87#dcld #woh #\n",
            " akia87  #\n"
          ]
        }
      ],
      "source": [
        "hashtages = re.compile(pattern=\"#[\\w\\d]+\")\n",
        "\n",
        "def remove_hashtages(text):\n",
        "  return hashtages.sub(repl=\"\", string=text)\n",
        "\n",
        "test_cleaning(remove_hashtages, '#cjndds akia87#dcld #woh #')"
      ]
    },
    {
      "cell_type": "markdown",
      "metadata": {
        "id": "3Wmj03TCzmiL"
      },
      "source": [
        "### Remove Mentions"
      ]
    },
    {
      "cell_type": "code",
      "execution_count": null,
      "metadata": {
        "colab": {
          "base_uri": "https://localhost:8080/"
        },
        "id": "kiJ53jjixUq3",
        "outputId": "0d06270d-1113-4369-825f-319e536e90f4"
      },
      "outputs": [
        {
          "output_type": "stream",
          "name": "stdout",
          "text": [
            "skon kalkl @dkima;\n",
            "skon kalkl ;\n"
          ]
        }
      ],
      "source": [
        "mensions = re.compile('@\\w+')\n",
        "\n",
        "def remove_mentions(text):\n",
        "  return mensions.sub(repl=\"\", string=text)\n",
        "\n",
        "test_cleaning(remove_mentions, 'skon kalkl @dkima;')"
      ]
    },
    {
      "cell_type": "markdown",
      "metadata": {
        "id": "yG3z7Tfrzt8a"
      },
      "source": [
        "### Remove Punctuations Marks"
      ]
    },
    {
      "cell_type": "code",
      "execution_count": null,
      "metadata": {
        "colab": {
          "base_uri": "https://localhost:8080/"
        },
        "id": "RpzM87PExUoJ",
        "outputId": "5beb30b8-ef68-4b58-a75b-41e2b236c97d"
      },
      "outputs": [
        {
          "output_type": "stream",
          "name": "stdout",
          "text": [
            "s; jk > kjnsd n? kknkcdlk 5jbd - ksl/nk #\n",
            "s jk  kjnsd n kknkcdlk 5jbd  kslnk \n"
          ]
        }
      ],
      "source": [
        "punctuation_marks = re.compile(r\"\"\"[!\"#$%&\\'()*+,-./:;<=>?@[\\\\\\]^_`{|}~،؟…«“\\\":\\\"…”]\"\"\")\n",
        "\n",
        "def remove_punch_marks(text):\n",
        "  return punctuation_marks.sub(repl=\"\", string=text)\n",
        "\n",
        "test_cleaning(remove_punch_marks, 's; jk > kjnsd n? kknkcdlk 5jbd - ksl/nk #')"
      ]
    },
    {
      "cell_type": "markdown",
      "metadata": {
        "id": "mfp2QlOyz4L5"
      },
      "source": [
        "### Remove HTTP URLs"
      ]
    },
    {
      "cell_type": "code",
      "execution_count": null,
      "metadata": {
        "colab": {
          "base_uri": "https://localhost:8080/"
        },
        "id": "hAB6VZjgz0eE",
        "outputId": "adec0436-72a6-483d-ff81-9e8ce35adcaf"
      },
      "outputs": [
        {
          "output_type": "stream",
          "name": "stdout",
          "text": [
            "www.slopla.net ksklo;s\n",
            "  ksklo;s\n"
          ]
        }
      ],
      "source": [
        "def remove_url(text):\n",
        "  return re.sub('((www\\.[^\\s]+)|(https?://[^\\s]+))', ' ', text)\n",
        "\n",
        "test_cleaning(remove_url, 'www.slopla.net ksklo;s')"
      ]
    },
    {
      "cell_type": "markdown",
      "metadata": {
        "id": "B18a5EUx0Auk"
      },
      "source": [
        "### Remove Numbers"
      ]
    },
    {
      "cell_type": "code",
      "execution_count": null,
      "metadata": {
        "colab": {
          "base_uri": "https://localhost:8080/"
        },
        "id": "XoHuG155z0bH",
        "outputId": "8933666c-5f9b-4e65-9c55-02180346ef06"
      },
      "outputs": [
        {
          "output_type": "stream",
          "name": "stdout",
          "text": [
            "jndks5kn kndkd199 dijsd5v 22\n",
            "jndkskn kndkd dijsdv \n"
          ]
        }
      ],
      "source": [
        "numbers = re.compile('\\d+')\n",
        "\n",
        "def remove_numbers(text):\n",
        "  return numbers.sub(repl=\"\", string=text)\n",
        "\n",
        "test_cleaning(remove_numbers, 'jndks5kn kndkd199 dijsd5v 22')"
      ]
    },
    {
      "cell_type": "markdown",
      "metadata": {
        "id": "W0Hb_Gan0FBO"
      },
      "source": [
        "### Remove Multible whitespace"
      ]
    },
    {
      "cell_type": "code",
      "execution_count": null,
      "metadata": {
        "colab": {
          "base_uri": "https://localhost:8080/"
        },
        "id": "yHyZxmz4z0YQ",
        "outputId": "5597cbc3-72d5-4651-8646-95b5ce16fc9d"
      },
      "outputs": [
        {
          "output_type": "stream",
          "name": "stdout",
          "text": [
            "xkncd  ;aksdmk ksdc dc  lsdc    lsdclmkdss\n",
            "xkncd ;aksdmk ksdc dc lsdc lsdclmkdss\n"
          ]
        }
      ],
      "source": [
        "multiple_whitespace = re.compile('\\s{2,}')\n",
        "\n",
        "def remove_whitespace(text):\n",
        "  return multiple_whitespace.sub(repl=\" \", string=text)\n",
        "\n",
        "test_cleaning(remove_whitespace, 'xkncd  ;aksdmk ksdc dc  lsdc    lsdclmkdss')"
      ]
    },
    {
      "cell_type": "markdown",
      "metadata": {
        "id": "PPdbE2Q70fVc"
      },
      "source": [
        "### Remove Emoji"
      ]
    },
    {
      "cell_type": "code",
      "execution_count": null,
      "metadata": {
        "colab": {
          "base_uri": "https://localhost:8080/"
        },
        "id": "mpPYg5ol0pcR",
        "outputId": "d77ef276-5464-45b3-9345-6ac3e092ae9e"
      },
      "outputs": [
        {
          "output_type": "stream",
          "name": "stdout",
          "text": [
            "Looking in indexes: https://pypi.org/simple, https://us-python.pkg.dev/colab-wheels/public/simple/\n",
            "Collecting demoji\n",
            "  Downloading demoji-1.1.0-py3-none-any.whl (42 kB)\n",
            "\u001b[2K     \u001b[90m━━━━━━━━━━━━━━━━━━━━━━━━━━━━━━━━━━━━━━━━\u001b[0m \u001b[32m42.9/42.9 KB\u001b[0m \u001b[31m2.8 MB/s\u001b[0m eta \u001b[36m0:00:00\u001b[0m\n",
            "\u001b[?25hInstalling collected packages: demoji\n",
            "Successfully installed demoji-1.1.0\n"
          ]
        }
      ],
      "source": [
        "!pip install demoji"
      ]
    },
    {
      "cell_type": "code",
      "execution_count": null,
      "metadata": {
        "colab": {
          "base_uri": "https://localhost:8080/"
        },
        "id": "ZurwPtLFz0V0",
        "outputId": "4dac3099-e9d0-4b67-d851-ce4a0ae5220b"
      },
      "outputs": [
        {
          "output_type": "stream",
          "name": "stderr",
          "text": [
            "<ipython-input-23-eb011a9810ad>:2: FutureWarning: The demoji.download_codes attribute is deprecated and will be removed from demoji in a future version. It is an unused attribute as emoji codes are now distributed directly with the demoji package.\n",
            "  demoji.download_codes()\n"
          ]
        }
      ],
      "source": [
        "import demoji\n",
        "demoji.download_codes()"
      ]
    },
    {
      "cell_type": "code",
      "execution_count": null,
      "metadata": {
        "colab": {
          "base_uri": "https://localhost:8080/"
        },
        "id": "WzDZaiUkxUmh",
        "outputId": "15394ee8-e895-4317-9558-c4d5053e8b59"
      },
      "outputs": [
        {
          "output_type": "stream",
          "name": "stdout",
          "text": [
            "Meet the 🙄🙄Goldman Sachs Economist Who 😊Just Lead Germany’s🇩🇪 Far Right to Victory #AfD [URL] 😂\n",
            "Meet the Goldman Sachs Economist Who Just Lead Germany’s Far Right to Victory #AfD [URL] \n"
          ]
        }
      ],
      "source": [
        "def remove_emoji(text):\n",
        "  dem = demoji.findall(text)\n",
        "  for item in dem.keys():\n",
        "    text = text.replace(item, '')\n",
        "  return text\n",
        "\n",
        "test_cleaning(remove_emoji,'Meet the 🙄🙄Goldman Sachs Economist Who 😊Just Lead Germany’s🇩🇪 Far Right to Victory #AfD [URL] 😂')"
      ]
    },
    {
      "cell_type": "markdown",
      "metadata": {
        "id": "S0dbBvt42FvZ"
      },
      "source": [
        "### Lemmatization"
      ]
    },
    {
      "cell_type": "code",
      "execution_count": null,
      "metadata": {
        "colab": {
          "base_uri": "https://localhost:8080/"
        },
        "id": "kSKKOHFMxUja",
        "outputId": "f9cbe7fd-3d53-4b97-e48b-25a73bf5626d"
      },
      "outputs": [
        {
          "output_type": "stream",
          "name": "stdout",
          "text": [
            "fro words in many cars ldfixs\n",
            "fro word in many car ldfixs\n"
          ]
        }
      ],
      "source": [
        "from nltk.stem import WordNetLemmatizer\n",
        "\n",
        "def lemmatization(text):\n",
        "  lemmatizer = WordNetLemmatizer()\n",
        "  words_tokenizes = nltk.word_tokenize(text)\n",
        "  lemmatized_string = \" \".join([lemmatizer.lemmatize(word) for word in words_tokenizes])\n",
        "  return lemmatized_string\n",
        "\n",
        "test_cleaning(lemmatization, 'fro words in many cars ldfixs') "
      ]
    },
    {
      "cell_type": "markdown",
      "metadata": {
        "id": "hTZluCki2L7h"
      },
      "source": [
        "### Stemming"
      ]
    },
    {
      "cell_type": "code",
      "execution_count": null,
      "metadata": {
        "id": "s4AmPDMBxUgV"
      },
      "outputs": [],
      "source": [
        "from nltk.stem import PorterStemmer\n",
        "def stemmer(text):\n",
        "    stemr = PorterStemmer()\n",
        "    words_tokens = nltk.word_tokenize(text)\n",
        "    stemmer_string = ' '.join([stemr.stem(words) for words in words_tokens])\n",
        "    return stemmer_string"
      ]
    },
    {
      "cell_type": "markdown",
      "metadata": {
        "id": "vF-8A-Ul2Rg-"
      },
      "source": [
        "### Clean all"
      ]
    },
    {
      "cell_type": "code",
      "execution_count": null,
      "metadata": {
        "colab": {
          "base_uri": "https://localhost:8080/"
        },
        "id": "8V1v7GhQ2RDQ",
        "outputId": "1932aee4-1144-4688-df15-1aea2d669643"
      },
      "outputs": [
        {
          "output_type": "stream",
          "name": "stdout",
          "text": [
            "How the is this #woman still an MP!!!???\n",
            "how woman still mp\n"
          ]
        }
      ],
      "source": [
        "def clean_all(text):\n",
        "  text = remove_url(text)\n",
        "  # text = remove_hashtages(text)\n",
        "  text = remove_mentions(text)\n",
        "  text = remove_punch_marks(text)\n",
        "  text = remove_numbers(text)\n",
        "  text = remove_stopwords(text)\n",
        "  text = remove_whitespace(text)\n",
        "  text = remove_emoji(text)\n",
        "  text = lemmatization(text)\n",
        "  text = text.lower().strip() #lowercase \n",
        "  # text = stemmer(text)\n",
        "  return text\n",
        "\n",
        "test_cleaning(clean_all, 'How the is this #woman still an MP!!!???')"
      ]
    },
    {
      "cell_type": "markdown",
      "metadata": {
        "id": "MeP2ln8e2ra1"
      },
      "source": [
        "# Save cleaned data for training"
      ]
    },
    {
      "cell_type": "code",
      "execution_count": null,
      "metadata": {
        "colab": {
          "base_uri": "https://localhost:8080/",
          "height": 424
        },
        "id": "unYjNmo0xUd7",
        "outputId": "472a2903-f551-486b-d434-7da6d9f8941e"
      },
      "outputs": [
        {
          "output_type": "execute_result",
          "data": {
            "text/plain": [
              "                                                    text  label_sexist\n",
              "0                            damn writing pretty chaotic             0\n",
              "1      yeah apparently bunch misogynistic virgin one ...             0\n",
              "2                                how fuck woman still mp             0\n",
              "3      understand know youre right at time i know isn...             0\n",
              "4                        surprized didnt stop rape woman             0\n",
              "...                                                  ...           ...\n",
              "13995  complex like nice chick go bad boy nah nah nah...             1\n",
              "13996  graphic germany muslim refugee stabbing younge...             0\n",
              "13997  lol i imagine would simps like doesn ’ t deser...             0\n",
              "13998  its girl i go date dont kiss first date dont t...             0\n",
              "13999  how incel he girlfriend fuck anyone say he kis...             0\n",
              "\n",
              "[14000 rows x 2 columns]"
            ],
            "text/html": [
              "\n",
              "  <div id=\"df-fbeb76c1-fb46-4885-b690-3d21d7a990a3\">\n",
              "    <div class=\"colab-df-container\">\n",
              "      <div>\n",
              "<style scoped>\n",
              "    .dataframe tbody tr th:only-of-type {\n",
              "        vertical-align: middle;\n",
              "    }\n",
              "\n",
              "    .dataframe tbody tr th {\n",
              "        vertical-align: top;\n",
              "    }\n",
              "\n",
              "    .dataframe thead th {\n",
              "        text-align: right;\n",
              "    }\n",
              "</style>\n",
              "<table border=\"1\" class=\"dataframe\">\n",
              "  <thead>\n",
              "    <tr style=\"text-align: right;\">\n",
              "      <th></th>\n",
              "      <th>text</th>\n",
              "      <th>label_sexist</th>\n",
              "    </tr>\n",
              "  </thead>\n",
              "  <tbody>\n",
              "    <tr>\n",
              "      <th>0</th>\n",
              "      <td>damn writing pretty chaotic</td>\n",
              "      <td>0</td>\n",
              "    </tr>\n",
              "    <tr>\n",
              "      <th>1</th>\n",
              "      <td>yeah apparently bunch misogynistic virgin one ...</td>\n",
              "      <td>0</td>\n",
              "    </tr>\n",
              "    <tr>\n",
              "      <th>2</th>\n",
              "      <td>how fuck woman still mp</td>\n",
              "      <td>0</td>\n",
              "    </tr>\n",
              "    <tr>\n",
              "      <th>3</th>\n",
              "      <td>understand know youre right at time i know isn...</td>\n",
              "      <td>0</td>\n",
              "    </tr>\n",
              "    <tr>\n",
              "      <th>4</th>\n",
              "      <td>surprized didnt stop rape woman</td>\n",
              "      <td>0</td>\n",
              "    </tr>\n",
              "    <tr>\n",
              "      <th>...</th>\n",
              "      <td>...</td>\n",
              "      <td>...</td>\n",
              "    </tr>\n",
              "    <tr>\n",
              "      <th>13995</th>\n",
              "      <td>complex like nice chick go bad boy nah nah nah...</td>\n",
              "      <td>1</td>\n",
              "    </tr>\n",
              "    <tr>\n",
              "      <th>13996</th>\n",
              "      <td>graphic germany muslim refugee stabbing younge...</td>\n",
              "      <td>0</td>\n",
              "    </tr>\n",
              "    <tr>\n",
              "      <th>13997</th>\n",
              "      <td>lol i imagine would simps like doesn ’ t deser...</td>\n",
              "      <td>0</td>\n",
              "    </tr>\n",
              "    <tr>\n",
              "      <th>13998</th>\n",
              "      <td>its girl i go date dont kiss first date dont t...</td>\n",
              "      <td>0</td>\n",
              "    </tr>\n",
              "    <tr>\n",
              "      <th>13999</th>\n",
              "      <td>how incel he girlfriend fuck anyone say he kis...</td>\n",
              "      <td>0</td>\n",
              "    </tr>\n",
              "  </tbody>\n",
              "</table>\n",
              "<p>14000 rows × 2 columns</p>\n",
              "</div>\n",
              "      <button class=\"colab-df-convert\" onclick=\"convertToInteractive('df-fbeb76c1-fb46-4885-b690-3d21d7a990a3')\"\n",
              "              title=\"Convert this dataframe to an interactive table.\"\n",
              "              style=\"display:none;\">\n",
              "        \n",
              "  <svg xmlns=\"http://www.w3.org/2000/svg\" height=\"24px\"viewBox=\"0 0 24 24\"\n",
              "       width=\"24px\">\n",
              "    <path d=\"M0 0h24v24H0V0z\" fill=\"none\"/>\n",
              "    <path d=\"M18.56 5.44l.94 2.06.94-2.06 2.06-.94-2.06-.94-.94-2.06-.94 2.06-2.06.94zm-11 1L8.5 8.5l.94-2.06 2.06-.94-2.06-.94L8.5 2.5l-.94 2.06-2.06.94zm10 10l.94 2.06.94-2.06 2.06-.94-2.06-.94-.94-2.06-.94 2.06-2.06.94z\"/><path d=\"M17.41 7.96l-1.37-1.37c-.4-.4-.92-.59-1.43-.59-.52 0-1.04.2-1.43.59L10.3 9.45l-7.72 7.72c-.78.78-.78 2.05 0 2.83L4 21.41c.39.39.9.59 1.41.59.51 0 1.02-.2 1.41-.59l7.78-7.78 2.81-2.81c.8-.78.8-2.07 0-2.86zM5.41 20L4 18.59l7.72-7.72 1.47 1.35L5.41 20z\"/>\n",
              "  </svg>\n",
              "      </button>\n",
              "      \n",
              "  <style>\n",
              "    .colab-df-container {\n",
              "      display:flex;\n",
              "      flex-wrap:wrap;\n",
              "      gap: 12px;\n",
              "    }\n",
              "\n",
              "    .colab-df-convert {\n",
              "      background-color: #E8F0FE;\n",
              "      border: none;\n",
              "      border-radius: 50%;\n",
              "      cursor: pointer;\n",
              "      display: none;\n",
              "      fill: #1967D2;\n",
              "      height: 32px;\n",
              "      padding: 0 0 0 0;\n",
              "      width: 32px;\n",
              "    }\n",
              "\n",
              "    .colab-df-convert:hover {\n",
              "      background-color: #E2EBFA;\n",
              "      box-shadow: 0px 1px 2px rgba(60, 64, 67, 0.3), 0px 1px 3px 1px rgba(60, 64, 67, 0.15);\n",
              "      fill: #174EA6;\n",
              "    }\n",
              "\n",
              "    [theme=dark] .colab-df-convert {\n",
              "      background-color: #3B4455;\n",
              "      fill: #D2E3FC;\n",
              "    }\n",
              "\n",
              "    [theme=dark] .colab-df-convert:hover {\n",
              "      background-color: #434B5C;\n",
              "      box-shadow: 0px 1px 3px 1px rgba(0, 0, 0, 0.15);\n",
              "      filter: drop-shadow(0px 1px 2px rgba(0, 0, 0, 0.3));\n",
              "      fill: #FFFFFF;\n",
              "    }\n",
              "  </style>\n",
              "\n",
              "      <script>\n",
              "        const buttonEl =\n",
              "          document.querySelector('#df-fbeb76c1-fb46-4885-b690-3d21d7a990a3 button.colab-df-convert');\n",
              "        buttonEl.style.display =\n",
              "          google.colab.kernel.accessAllowed ? 'block' : 'none';\n",
              "\n",
              "        async function convertToInteractive(key) {\n",
              "          const element = document.querySelector('#df-fbeb76c1-fb46-4885-b690-3d21d7a990a3');\n",
              "          const dataTable =\n",
              "            await google.colab.kernel.invokeFunction('convertToInteractive',\n",
              "                                                     [key], {});\n",
              "          if (!dataTable) return;\n",
              "\n",
              "          const docLinkHtml = 'Like what you see? Visit the ' +\n",
              "            '<a target=\"_blank\" href=https://colab.research.google.com/notebooks/data_table.ipynb>data table notebook</a>'\n",
              "            + ' to learn more about interactive tables.';\n",
              "          element.innerHTML = '';\n",
              "          dataTable['output_type'] = 'display_data';\n",
              "          await google.colab.output.renderOutput(dataTable, element);\n",
              "          const docLink = document.createElement('div');\n",
              "          docLink.innerHTML = docLinkHtml;\n",
              "          element.appendChild(docLink);\n",
              "        }\n",
              "      </script>\n",
              "    </div>\n",
              "  </div>\n",
              "  "
            ]
          },
          "metadata": {},
          "execution_count": 28
        }
      ],
      "source": [
        "clean_text = []\n",
        "\n",
        "for text in train_task_A['text']:\n",
        "  new_data = clean_all(text)\n",
        "  clean_text.append(new_data)\n",
        "\n",
        "clean_task_A = pd.DataFrame({'text':clean_text, 'label_sexist':train_task_A['label_sexist']})\n",
        "clean_task_A"
      ]
    },
    {
      "cell_type": "code",
      "execution_count": null,
      "metadata": {
        "id": "cWPDq0SuxUbD"
      },
      "outputs": [],
      "source": [
        "clean_task_A.to_csv('train_cleaned_task_A.csv', index=False)"
      ]
    },
    {
      "cell_type": "markdown",
      "metadata": {
        "id": "5lsZURNC0xo0"
      },
      "source": [
        "# loading clean  data and split "
      ]
    },
    {
      "cell_type": "code",
      "execution_count": null,
      "metadata": {
        "id": "jKuPT6411CQY"
      },
      "outputs": [],
      "source": [
        "train = pd.read_csv('/content/train_cleaned_task_A.csv')"
      ]
    },
    {
      "cell_type": "code",
      "source": [
        "# v=train['text'].apply(str)\n",
        "# v[\"tokens\"] = train[\"text\"].apply(nltk.word_tokenize)\n",
        "# v[\"tokens\"].value_counts()[:10].plot(kind='bar')\n"
      ],
      "metadata": {
        "id": "oG6G4tWC8rhy"
      },
      "execution_count": null,
      "outputs": []
    },
    {
      "cell_type": "code",
      "execution_count": null,
      "metadata": {
        "id": "xOrIovf30bZc"
      },
      "outputs": [],
      "source": [
        "X = train['text']\n",
        "y = train['label_sexist']\n",
        "X_train, X_test, Y_train, Y_test = train_test_split(X, y, test_size=0.1, random_state=42)"
      ]
    },
    {
      "cell_type": "markdown",
      "metadata": {
        "id": "81ZOV97e4Znq"
      },
      "source": [
        "#modeling"
      ]
    },
    {
      "cell_type": "markdown",
      "metadata": {
        "id": "ypuk8ij_5AdT"
      },
      "source": [
        "create table with count result and tfidf result before pos and after pos"
      ]
    },
    {
      "cell_type": "markdown",
      "metadata": {
        "id": "rzatdAnO0m1H"
      },
      "source": [
        "###count vectorizer"
      ]
    },
    {
      "cell_type": "code",
      "execution_count": null,
      "metadata": {
        "id": "zZbIt6KV2mFR"
      },
      "outputs": [],
      "source": [
        "# vectorizer = CountVectorizer()\n",
        "# vector_count_train = vectorizer.fit_transform(X_train.astype(str))\n",
        "# vector_count_test = vectorizer.transform(X_test.astype(str))"
      ]
    },
    {
      "cell_type": "code",
      "source": [
        "# print(\"n_samples: %d, n_features: %d\" % vector_count_train.shape)"
      ],
      "metadata": {
        "id": "722hpn8lxXxC"
      },
      "execution_count": null,
      "outputs": []
    },
    {
      "cell_type": "markdown",
      "source": [
        "# **Unigram**"
      ],
      "metadata": {
        "id": "GpXLnsvNzdJm"
      }
    },
    {
      "cell_type": "code",
      "execution_count": null,
      "metadata": {
        "id": "7AIKC46yq3KM"
      },
      "outputs": [],
      "source": [
        "vectorizer = CountVectorizer()\n",
        "vector_count_train = vectorizer.fit_transform(X_train.astype(str))\n",
        "vector_count_test = vectorizer.transform(X_test.astype(str))"
      ]
    },
    {
      "cell_type": "code",
      "source": [
        "print(\"n_samples: %d, n_features: %d\" % vector_count_train.shape)"
      ],
      "metadata": {
        "colab": {
          "base_uri": "https://localhost:8080/"
        },
        "outputId": "d5e8ada2-e749-4910-eb14-abd7f31c9177",
        "id": "o-dMP7Unq3KN"
      },
      "execution_count": null,
      "outputs": [
        {
          "output_type": "stream",
          "name": "stdout",
          "text": [
            "n_samples: 12600, n_features: 19613\n"
          ]
        }
      ]
    },
    {
      "cell_type": "code",
      "source": [
        "f1_scores = []\n",
        "accuracy = []\n",
        "models = ['SVM', 'Random Forest', 'GaussianNB', 'LogisticRegression','KNN', 'xgboost']"
      ],
      "metadata": {
        "id": "vLhI1DSBqGub"
      },
      "execution_count": null,
      "outputs": []
    },
    {
      "cell_type": "markdown",
      "source": [
        "**SVM**"
      ],
      "metadata": {
        "id": "QWZL1npr1OPe"
      }
    },
    {
      "cell_type": "code",
      "execution_count": null,
      "metadata": {
        "colab": {
          "base_uri": "https://localhost:8080/"
        },
        "id": "ulTJ6Ibk59n7",
        "outputId": "31033127-c091-4332-936d-a1c272b4f7b9"
      },
      "outputs": [
        {
          "output_type": "stream",
          "name": "stdout",
          "text": [
            "              precision    recall  f1-score   support\n",
            "\n",
            "           0       0.85      0.89      0.87      1064\n",
            "           1       0.59      0.50      0.54       336\n",
            "\n",
            "    accuracy                           0.80      1400\n",
            "   macro avg       0.72      0.70      0.71      1400\n",
            "weighted avg       0.79      0.80      0.79      1400\n",
            "\n"
          ]
        }
      ],
      "source": [
        "#SVM\n",
        "from sklearn.svm import LinearSVC\n",
        "svm_model = LinearSVC()\n",
        "svm_model.fit(vector_count_train, Y_train)\n",
        "predictions_SVM = svm_model.predict(vector_count_test)\n",
        "print(classification_report(Y_test, predictions_SVM))"
      ]
    },
    {
      "cell_type": "code",
      "source": [
        "f1_svm = f1_score(Y_test, predictions_SVM, average='macro')\n",
        "f1_scores.append(f1_svm)\n",
        "accuracy.append(accuracy_score(Y_test, predictions_SVM))"
      ],
      "metadata": {
        "id": "Tzn8hD65sG7o"
      },
      "execution_count": null,
      "outputs": []
    },
    {
      "cell_type": "markdown",
      "source": [
        "**Random** **Forest**"
      ],
      "metadata": {
        "id": "yoL4Xa5F1bKd"
      }
    },
    {
      "cell_type": "code",
      "execution_count": null,
      "metadata": {
        "colab": {
          "base_uri": "https://localhost:8080/"
        },
        "id": "RsVuSt5941Vd",
        "outputId": "0b4fff91-4e30-485c-9a09-501923707f9a"
      },
      "outputs": [
        {
          "output_type": "stream",
          "name": "stdout",
          "text": [
            "              precision    recall  f1-score   support\n",
            "\n",
            "           0       0.83      0.98      0.90      1064\n",
            "           1       0.88      0.35      0.50       336\n",
            "\n",
            "    accuracy                           0.83      1400\n",
            "   macro avg       0.85      0.67      0.70      1400\n",
            "weighted avg       0.84      0.83      0.80      1400\n",
            "\n"
          ]
        }
      ],
      "source": [
        "#random forest\n",
        "from sklearn.ensemble import RandomForestClassifier\n",
        "forest_model = RandomForestClassifier()\n",
        "forest_model.fit(vector_count_train, Y_train)\n",
        "pred_forst = forest_model.predict(vector_count_test)\n",
        "print(classification_report(Y_test, pred_forst))"
      ]
    },
    {
      "cell_type": "code",
      "source": [
        "f1_forst = f1_score(Y_test, pred_forst, average='macro')\n",
        "f1_scores.append(f1_forst)\n",
        "accuracy.append(accuracy_score(Y_test, pred_forst))"
      ],
      "metadata": {
        "id": "tJbiMhvltE70"
      },
      "execution_count": null,
      "outputs": []
    },
    {
      "cell_type": "markdown",
      "source": [
        "**GaussianNB**"
      ],
      "metadata": {
        "id": "weVOrxou2PDp"
      }
    },
    {
      "cell_type": "code",
      "execution_count": null,
      "metadata": {
        "id": "mGydBMGX76HO",
        "colab": {
          "base_uri": "https://localhost:8080/"
        },
        "outputId": "ed0755d4-e453-44ca-f5be-a270c5aca00a"
      },
      "outputs": [
        {
          "output_type": "stream",
          "name": "stdout",
          "text": [
            "              precision    recall  f1-score   support\n",
            "\n",
            "           0       0.79      0.49      0.61      1064\n",
            "           1       0.26      0.57      0.36       336\n",
            "\n",
            "    accuracy                           0.51      1400\n",
            "   macro avg       0.52      0.53      0.48      1400\n",
            "weighted avg       0.66      0.51      0.55      1400\n",
            "\n"
          ]
        }
      ],
      "source": [
        "#GaussianNB\n",
        "from sklearn.naive_bayes import GaussianNB\n",
        "gnb = GaussianNB()\n",
        "gnb.fit(vector_count_train.toarray(), Y_train)\n",
        "pred_NB=gnb.predict(vector_count_test.toarray())\n",
        "print(classification_report(Y_test, pred_NB))"
      ]
    },
    {
      "cell_type": "code",
      "source": [
        "f1_nb = f1_score(Y_test, pred_NB, average='macro')\n",
        "f1_scores.append(f1_nb)\n",
        "accuracy.append(accuracy_score(Y_test, pred_NB))"
      ],
      "metadata": {
        "id": "3-8PRupatOkQ"
      },
      "execution_count": null,
      "outputs": []
    },
    {
      "cell_type": "markdown",
      "source": [
        "**Logistic** **Regressino**"
      ],
      "metadata": {
        "id": "NAhguXJC1iEu"
      }
    },
    {
      "cell_type": "code",
      "source": [
        "#LogisticRegression\n",
        "from sklearn.linear_model import LogisticRegression\n",
        "clf = LogisticRegression()\n",
        "clf.fit(vector_count_train, Y_train)\n",
        "pred_clf = clf.predict(vector_count_test)\n",
        "print(classification_report(Y_test, pred_clf))"
      ],
      "metadata": {
        "colab": {
          "base_uri": "https://localhost:8080/"
        },
        "id": "yKeBsx0XpUid",
        "outputId": "e3c519df-44f2-4a80-abb5-b660003d0734"
      },
      "execution_count": null,
      "outputs": [
        {
          "output_type": "stream",
          "name": "stdout",
          "text": [
            "              precision    recall  f1-score   support\n",
            "\n",
            "           0       0.84      0.95      0.89      1064\n",
            "           1       0.73      0.43      0.54       336\n",
            "\n",
            "    accuracy                           0.83      1400\n",
            "   macro avg       0.79      0.69      0.72      1400\n",
            "weighted avg       0.81      0.83      0.81      1400\n",
            "\n"
          ]
        },
        {
          "output_type": "stream",
          "name": "stderr",
          "text": [
            "/usr/local/lib/python3.8/dist-packages/sklearn/linear_model/_logistic.py:814: ConvergenceWarning: lbfgs failed to converge (status=1):\n",
            "STOP: TOTAL NO. of ITERATIONS REACHED LIMIT.\n",
            "\n",
            "Increase the number of iterations (max_iter) or scale the data as shown in:\n",
            "    https://scikit-learn.org/stable/modules/preprocessing.html\n",
            "Please also refer to the documentation for alternative solver options:\n",
            "    https://scikit-learn.org/stable/modules/linear_model.html#logistic-regression\n",
            "  n_iter_i = _check_optimize_result(\n"
          ]
        }
      ]
    },
    {
      "cell_type": "code",
      "source": [
        "f1_logest = f1_score(Y_test, pred_clf, average='macro')\n",
        "f1_scores.append(f1_logest)\n",
        "accuracy.append(accuracy_score(Y_test, pred_clf))"
      ],
      "metadata": {
        "id": "OUQ8X7j2tQqC"
      },
      "execution_count": null,
      "outputs": []
    },
    {
      "cell_type": "markdown",
      "source": [
        "**KNN**"
      ],
      "metadata": {
        "id": "A-4pIG5K1n7p"
      }
    },
    {
      "cell_type": "code",
      "source": [
        "#KNN\n",
        "from sklearn.neighbors import KNeighborsClassifier\n",
        "knn_model = KNeighborsClassifier(n_neighbors=20)\n",
        "knn_model.fit(vector_count_train, Y_train)\n",
        "pred_knn = knn_model.predict(vector_count_test)\n",
        "print(classification_report(Y_test, pred_knn))"
      ],
      "metadata": {
        "colab": {
          "base_uri": "https://localhost:8080/"
        },
        "id": "YC_Fr2-KrwTT",
        "outputId": "06995377-7e74-44b8-901c-c2a3c52650b5"
      },
      "execution_count": null,
      "outputs": [
        {
          "output_type": "stream",
          "name": "stdout",
          "text": [
            "              precision    recall  f1-score   support\n",
            "\n",
            "           0       0.76      1.00      0.86      1064\n",
            "           1       1.00      0.00      0.01       336\n",
            "\n",
            "    accuracy                           0.76      1400\n",
            "   macro avg       0.88      0.50      0.43      1400\n",
            "weighted avg       0.82      0.76      0.66      1400\n",
            "\n"
          ]
        }
      ]
    },
    {
      "cell_type": "code",
      "source": [
        "f1_knn = f1_score(Y_test, pred_knn, average='macro')\n",
        "f1_scores.append(f1_knn)\n",
        "accuracy.append(accuracy_score(Y_test, pred_knn))"
      ],
      "metadata": {
        "id": "Cl1hyqr0tRln"
      },
      "execution_count": null,
      "outputs": []
    },
    {
      "cell_type": "markdown",
      "source": [
        "**XGBoost**"
      ],
      "metadata": {
        "id": "O7xOhTmF1rzj"
      }
    },
    {
      "cell_type": "code",
      "execution_count": null,
      "metadata": {
        "colab": {
          "base_uri": "https://localhost:8080/"
        },
        "id": "U2-oc0vH6rg3",
        "outputId": "6a5a2cb0-5c3f-4c95-f654-d7121e5e1e97"
      },
      "outputs": [
        {
          "output_type": "stream",
          "name": "stdout",
          "text": [
            "              precision    recall  f1-score   support\n",
            "\n",
            "           0       0.82      0.99      0.90      1064\n",
            "           1       0.92      0.33      0.49       336\n",
            "\n",
            "    accuracy                           0.83      1400\n",
            "   macro avg       0.87      0.66      0.69      1400\n",
            "weighted avg       0.85      0.83      0.80      1400\n",
            "\n"
          ]
        }
      ],
      "source": [
        "#xgboost\n",
        "from xgboost import XGBClassifier\n",
        "XGB_model = XGBClassifier()\n",
        "XGB_model.fit(vector_count_train, Y_train)\n",
        "pred_XGB = XGB_model.predict(vector_count_test)\n",
        "print(classification_report(Y_test, pred_XGB))"
      ]
    },
    {
      "cell_type": "code",
      "source": [
        "f1_xgb = f1_score(Y_test, pred_XGB, average='macro')\n",
        "f1_scores.append(f1_xgb)\n",
        "accuracy.append(accuracy_score(Y_test, pred_XGB))"
      ],
      "metadata": {
        "id": "mU1D9egjtSp3"
      },
      "execution_count": null,
      "outputs": []
    },
    {
      "cell_type": "markdown",
      "source": [
        "### <mark>This Result From Count Vectorizer UNIGRAM <mark>"
      ],
      "metadata": {
        "id": "bLj2K0OrtnGm"
      }
    },
    {
      "cell_type": "code",
      "source": [
        "compare = pd.DataFrame({'Models' : models , 'macro F1 score' : f1_scores, 'accuracy':accuracy})\n",
        "compare.sort_values(by='macro F1 score' , ascending=False)"
      ],
      "metadata": {
        "colab": {
          "base_uri": "https://localhost:8080/",
          "height": 238
        },
        "id": "KNS98trhtmZM",
        "outputId": "e50c261e-e468-4485-d1ce-8f000d87bc47"
      },
      "execution_count": null,
      "outputs": [
        {
          "output_type": "execute_result",
          "data": {
            "text/plain": [
              "               Models  macro F1 score  accuracy\n",
              "3  LogisticRegression        0.717696  0.825714\n",
              "0                 SVM        0.705116  0.795714\n",
              "1       Random Forest        0.699059  0.832143\n",
              "5             xgboost        0.694584  0.832857\n",
              "2          GaussianNB        0.483258  0.512143\n",
              "4                 KNN        0.434961  0.760714"
            ],
            "text/html": [
              "\n",
              "  <div id=\"df-7aabf174-d893-4280-baf7-21bb94edcad0\">\n",
              "    <div class=\"colab-df-container\">\n",
              "      <div>\n",
              "<style scoped>\n",
              "    .dataframe tbody tr th:only-of-type {\n",
              "        vertical-align: middle;\n",
              "    }\n",
              "\n",
              "    .dataframe tbody tr th {\n",
              "        vertical-align: top;\n",
              "    }\n",
              "\n",
              "    .dataframe thead th {\n",
              "        text-align: right;\n",
              "    }\n",
              "</style>\n",
              "<table border=\"1\" class=\"dataframe\">\n",
              "  <thead>\n",
              "    <tr style=\"text-align: right;\">\n",
              "      <th></th>\n",
              "      <th>Models</th>\n",
              "      <th>macro F1 score</th>\n",
              "      <th>accuracy</th>\n",
              "    </tr>\n",
              "  </thead>\n",
              "  <tbody>\n",
              "    <tr>\n",
              "      <th>3</th>\n",
              "      <td>LogisticRegression</td>\n",
              "      <td>0.717696</td>\n",
              "      <td>0.825714</td>\n",
              "    </tr>\n",
              "    <tr>\n",
              "      <th>0</th>\n",
              "      <td>SVM</td>\n",
              "      <td>0.705116</td>\n",
              "      <td>0.795714</td>\n",
              "    </tr>\n",
              "    <tr>\n",
              "      <th>1</th>\n",
              "      <td>Random Forest</td>\n",
              "      <td>0.699059</td>\n",
              "      <td>0.832143</td>\n",
              "    </tr>\n",
              "    <tr>\n",
              "      <th>5</th>\n",
              "      <td>xgboost</td>\n",
              "      <td>0.694584</td>\n",
              "      <td>0.832857</td>\n",
              "    </tr>\n",
              "    <tr>\n",
              "      <th>2</th>\n",
              "      <td>GaussianNB</td>\n",
              "      <td>0.483258</td>\n",
              "      <td>0.512143</td>\n",
              "    </tr>\n",
              "    <tr>\n",
              "      <th>4</th>\n",
              "      <td>KNN</td>\n",
              "      <td>0.434961</td>\n",
              "      <td>0.760714</td>\n",
              "    </tr>\n",
              "  </tbody>\n",
              "</table>\n",
              "</div>\n",
              "      <button class=\"colab-df-convert\" onclick=\"convertToInteractive('df-7aabf174-d893-4280-baf7-21bb94edcad0')\"\n",
              "              title=\"Convert this dataframe to an interactive table.\"\n",
              "              style=\"display:none;\">\n",
              "        \n",
              "  <svg xmlns=\"http://www.w3.org/2000/svg\" height=\"24px\"viewBox=\"0 0 24 24\"\n",
              "       width=\"24px\">\n",
              "    <path d=\"M0 0h24v24H0V0z\" fill=\"none\"/>\n",
              "    <path d=\"M18.56 5.44l.94 2.06.94-2.06 2.06-.94-2.06-.94-.94-2.06-.94 2.06-2.06.94zm-11 1L8.5 8.5l.94-2.06 2.06-.94-2.06-.94L8.5 2.5l-.94 2.06-2.06.94zm10 10l.94 2.06.94-2.06 2.06-.94-2.06-.94-.94-2.06-.94 2.06-2.06.94z\"/><path d=\"M17.41 7.96l-1.37-1.37c-.4-.4-.92-.59-1.43-.59-.52 0-1.04.2-1.43.59L10.3 9.45l-7.72 7.72c-.78.78-.78 2.05 0 2.83L4 21.41c.39.39.9.59 1.41.59.51 0 1.02-.2 1.41-.59l7.78-7.78 2.81-2.81c.8-.78.8-2.07 0-2.86zM5.41 20L4 18.59l7.72-7.72 1.47 1.35L5.41 20z\"/>\n",
              "  </svg>\n",
              "      </button>\n",
              "      \n",
              "  <style>\n",
              "    .colab-df-container {\n",
              "      display:flex;\n",
              "      flex-wrap:wrap;\n",
              "      gap: 12px;\n",
              "    }\n",
              "\n",
              "    .colab-df-convert {\n",
              "      background-color: #E8F0FE;\n",
              "      border: none;\n",
              "      border-radius: 50%;\n",
              "      cursor: pointer;\n",
              "      display: none;\n",
              "      fill: #1967D2;\n",
              "      height: 32px;\n",
              "      padding: 0 0 0 0;\n",
              "      width: 32px;\n",
              "    }\n",
              "\n",
              "    .colab-df-convert:hover {\n",
              "      background-color: #E2EBFA;\n",
              "      box-shadow: 0px 1px 2px rgba(60, 64, 67, 0.3), 0px 1px 3px 1px rgba(60, 64, 67, 0.15);\n",
              "      fill: #174EA6;\n",
              "    }\n",
              "\n",
              "    [theme=dark] .colab-df-convert {\n",
              "      background-color: #3B4455;\n",
              "      fill: #D2E3FC;\n",
              "    }\n",
              "\n",
              "    [theme=dark] .colab-df-convert:hover {\n",
              "      background-color: #434B5C;\n",
              "      box-shadow: 0px 1px 3px 1px rgba(0, 0, 0, 0.15);\n",
              "      filter: drop-shadow(0px 1px 2px rgba(0, 0, 0, 0.3));\n",
              "      fill: #FFFFFF;\n",
              "    }\n",
              "  </style>\n",
              "\n",
              "      <script>\n",
              "        const buttonEl =\n",
              "          document.querySelector('#df-7aabf174-d893-4280-baf7-21bb94edcad0 button.colab-df-convert');\n",
              "        buttonEl.style.display =\n",
              "          google.colab.kernel.accessAllowed ? 'block' : 'none';\n",
              "\n",
              "        async function convertToInteractive(key) {\n",
              "          const element = document.querySelector('#df-7aabf174-d893-4280-baf7-21bb94edcad0');\n",
              "          const dataTable =\n",
              "            await google.colab.kernel.invokeFunction('convertToInteractive',\n",
              "                                                     [key], {});\n",
              "          if (!dataTable) return;\n",
              "\n",
              "          const docLinkHtml = 'Like what you see? Visit the ' +\n",
              "            '<a target=\"_blank\" href=https://colab.research.google.com/notebooks/data_table.ipynb>data table notebook</a>'\n",
              "            + ' to learn more about interactive tables.';\n",
              "          element.innerHTML = '';\n",
              "          dataTable['output_type'] = 'display_data';\n",
              "          await google.colab.output.renderOutput(dataTable, element);\n",
              "          const docLink = document.createElement('div');\n",
              "          docLink.innerHTML = docLinkHtml;\n",
              "          element.appendChild(docLink);\n",
              "        }\n",
              "      </script>\n",
              "    </div>\n",
              "  </div>\n",
              "  "
            ]
          },
          "metadata": {},
          "execution_count": 50
        }
      ]
    },
    {
      "cell_type": "markdown",
      "source": [
        "#**Bigram**"
      ],
      "metadata": {
        "id": "pAnf4d20KVLL"
      }
    },
    {
      "cell_type": "code",
      "source": [
        "vectorizer = CountVectorizer(ngram_range=(2,2))\n",
        "vector_count_trainbi = vectorizer.fit_transform(X_train.astype(str))\n",
        "vector_count_testbi = vectorizer.transform(X_test.astype(str))"
      ],
      "metadata": {
        "id": "JonnTcEZKXxP"
      },
      "execution_count": null,
      "outputs": []
    },
    {
      "cell_type": "code",
      "source": [
        "print(\"n_samples: %d, n_features: %d\" % vector_count_trainbi.shape)"
      ],
      "metadata": {
        "id": "gCC66nDnK2uW",
        "outputId": "d8c4f335-dc42-41ad-e343-7e954dc0b938",
        "colab": {
          "base_uri": "https://localhost:8080/"
        }
      },
      "execution_count": null,
      "outputs": [
        {
          "output_type": "stream",
          "name": "stdout",
          "text": [
            "n_samples: 12600, n_features: 126401\n"
          ]
        }
      ]
    },
    {
      "cell_type": "code",
      "source": [
        "f1_scores_bi = []\n",
        "accuracy_bi = []\n",
        "models = ['SVM', 'Random Forest', 'GaussianNB', 'LogisticRegression','KNN', 'xgboost']"
      ],
      "metadata": {
        "id": "DhgK6a6A2awy"
      },
      "execution_count": null,
      "outputs": []
    },
    {
      "cell_type": "markdown",
      "source": [
        "**SVM**"
      ],
      "metadata": {
        "id": "aaXygcNB2awz"
      }
    },
    {
      "cell_type": "code",
      "execution_count": null,
      "metadata": {
        "colab": {
          "base_uri": "https://localhost:8080/"
        },
        "outputId": "383dd3fa-a016-4a4d-f6f9-d24f59fe09d0",
        "id": "uD4LAYxi2aw0"
      },
      "outputs": [
        {
          "output_type": "stream",
          "name": "stdout",
          "text": [
            "              precision    recall  f1-score   support\n",
            "\n",
            "           0       0.78      0.98      0.87      1064\n",
            "           1       0.66      0.11      0.19       336\n",
            "\n",
            "    accuracy                           0.77      1400\n",
            "   macro avg       0.72      0.55      0.53      1400\n",
            "weighted avg       0.75      0.77      0.70      1400\n",
            "\n"
          ]
        }
      ],
      "source": [
        "#SVM\n",
        "from sklearn.svm import LinearSVC\n",
        "svm_model = LinearSVC()\n",
        "svm_model.fit(vector_count_trainbi, Y_train)\n",
        "predictions_SVM = svm_model.predict(vector_count_testbi)\n",
        "print(classification_report(Y_test, predictions_SVM))"
      ]
    },
    {
      "cell_type": "code",
      "source": [
        "f1_svm = f1_score(Y_test, predictions_SVM, average='macro')\n",
        "f1_scores_bi.append(f1_svm)\n",
        "accuracy.append(accuracy_score(Y_test, predictions_SVM))"
      ],
      "metadata": {
        "id": "-olWLwMr2aw0"
      },
      "execution_count": null,
      "outputs": []
    },
    {
      "cell_type": "markdown",
      "source": [
        "**Random** **Forest**"
      ],
      "metadata": {
        "id": "7j3qNsK72aw0"
      }
    },
    {
      "cell_type": "code",
      "execution_count": null,
      "metadata": {
        "colab": {
          "base_uri": "https://localhost:8080/"
        },
        "outputId": "d37e562f-e64c-4c66-d9de-0c2b6cabb1e1",
        "id": "rFaruMnJ2aw1"
      },
      "outputs": [
        {
          "output_type": "stream",
          "name": "stdout",
          "text": [
            "              precision    recall  f1-score   support\n",
            "\n",
            "           0       0.78      1.00      0.87      1064\n",
            "           1       0.89      0.10      0.17       336\n",
            "\n",
            "    accuracy                           0.78      1400\n",
            "   macro avg       0.83      0.55      0.52      1400\n",
            "weighted avg       0.80      0.78      0.70      1400\n",
            "\n"
          ]
        }
      ],
      "source": [
        "#random forest\n",
        "from sklearn.ensemble import RandomForestClassifier\n",
        "forest_model = RandomForestClassifier()\n",
        "forest_model.fit(vector_count_trainbi, Y_train)\n",
        "pred_forst = forest_model.predict(vector_count_testbi)\n",
        "print(classification_report(Y_test, pred_forst))"
      ]
    },
    {
      "cell_type": "code",
      "source": [
        "f1_forst = f1_score(Y_test, pred_forst, average='macro')\n",
        "f1_scores_bi.append(f1_forst)\n",
        "accuracy.append(accuracy_score(Y_test, pred_forst))"
      ],
      "metadata": {
        "id": "aa_HrtkV2aw1"
      },
      "execution_count": null,
      "outputs": []
    },
    {
      "cell_type": "markdown",
      "source": [
        "**GaussianNB**"
      ],
      "metadata": {
        "id": "HUrHz0Ye2aw1"
      }
    },
    {
      "cell_type": "code",
      "execution_count": null,
      "metadata": {
        "id": "5UL8nKea2aw1"
      },
      "outputs": [],
      "source": [
        "#GaussianNB\n",
        "from sklearn.naive_bayes import GaussianNB\n",
        "gnb = GaussianNB()\n",
        "gnb.fit(vector_count_trainbi.toarray(), Y_train)\n",
        "pred_NB=gnb.predict(vector_count_testbi.toarray())\n",
        "print(classification_report(Y_test, pred_NB))"
      ]
    },
    {
      "cell_type": "code",
      "source": [
        "f1_nb = f1_score(Y_test, pred_NB, average='macro')\n",
        "f1_scores_bi.append(f1_nb)\n",
        "accuracy.append(accuracy_score(Y_test, pred_NB))"
      ],
      "metadata": {
        "id": "6kiW47kf2aw2"
      },
      "execution_count": null,
      "outputs": []
    },
    {
      "cell_type": "markdown",
      "source": [
        "**Logistic** **Regressino**"
      ],
      "metadata": {
        "id": "Euoj8MXH2aw2"
      }
    },
    {
      "cell_type": "code",
      "source": [
        "#LogisticRegression\n",
        "from sklearn.linear_model import LogisticRegression\n",
        "clf = LogisticRegression()\n",
        "clf.fit(vector_count_trainbi, Y_train)\n",
        "pred_clf = clf.predict(vector_count_testbi)\n",
        "print(classification_report(Y_test, pred_clf))"
      ],
      "metadata": {
        "id": "jaeRsH6_2aw2"
      },
      "execution_count": null,
      "outputs": []
    },
    {
      "cell_type": "code",
      "source": [
        "f1_logest = f1_score(Y_test, pred_clf, average='macro')\n",
        "f1_scores_bi.append(f1_logest)\n",
        "accuracy.append(accuracy_score(Y_test, pred_clf))"
      ],
      "metadata": {
        "id": "aZKTSTAS2aw2"
      },
      "execution_count": null,
      "outputs": []
    },
    {
      "cell_type": "markdown",
      "source": [
        "**KNN**"
      ],
      "metadata": {
        "id": "JeCLtmfe2aw3"
      }
    },
    {
      "cell_type": "code",
      "source": [
        "#KNN\n",
        "from sklearn.neighbors import KNeighborsClassifier\n",
        "knn_model = KNeighborsClassifier(n_neighbors=20)\n",
        "knn_model.fit(vector_count_trainbi, Y_train)\n",
        "pred_knn = knn_model.predict(vector_count_testbi)\n",
        "print(classification_report(Y_test, pred_knn))"
      ],
      "metadata": {
        "id": "ATH4rca42aw3"
      },
      "execution_count": null,
      "outputs": []
    },
    {
      "cell_type": "code",
      "source": [
        "f1_knn = f1_score(Y_test, pred_knn, average='macro')\n",
        "f1_scores_bi.append(f1_knn)\n",
        "accuracy.append(accuracy_score(Y_test, pred_knn))"
      ],
      "metadata": {
        "id": "PiZYY0OT2aw3"
      },
      "execution_count": null,
      "outputs": []
    },
    {
      "cell_type": "markdown",
      "source": [
        "**XGBoost**"
      ],
      "metadata": {
        "id": "U1eURoe62aw4"
      }
    },
    {
      "cell_type": "code",
      "execution_count": null,
      "metadata": {
        "id": "p95Ke9Oj2aw4"
      },
      "outputs": [],
      "source": [
        "#xgboost\n",
        "from xgboost import XGBClassifier\n",
        "XGB_model = XGBClassifier()\n",
        "XGB_model.fit(vector_count_trainbi, Y_train)\n",
        "pred_XGB = XGB_model.predict(vector_count_testbi)\n",
        "print(classification_report(Y_test, pred_XGB))"
      ]
    },
    {
      "cell_type": "code",
      "source": [
        "f1_xgb = f1_score(Y_test, pred_XGB, average='macro')\n",
        "f1_scores_bi.append(f1_xgb)\n",
        "accuracy.append(accuracy_score(Y_test, pred_XGB))"
      ],
      "metadata": {
        "id": "2oZBqQlh2aw4"
      },
      "execution_count": null,
      "outputs": []
    },
    {
      "cell_type": "markdown",
      "source": [
        "### <mark>This Result From Count Vectorizer BIGRAM <mark>"
      ],
      "metadata": {
        "id": "TPN_Vfqi2aw4"
      }
    },
    {
      "cell_type": "code",
      "source": [
        "compare = pd.DataFrame({'Models' : models , 'macro F1 score' : f1_scores_bi, 'accuracy':accuracy})\n",
        "compare.sort_values(by='macro F1 score' , ascending=False)"
      ],
      "metadata": {
        "id": "XqWXkn3v2aw4"
      },
      "execution_count": null,
      "outputs": []
    },
    {
      "cell_type": "markdown",
      "metadata": {
        "id": "NEFjoGhM0qvx"
      },
      "source": [
        "# TF-IDF"
      ]
    },
    {
      "cell_type": "code",
      "execution_count": null,
      "metadata": {
        "id": "BwcT97SW0tCT"
      },
      "outputs": [],
      "source": [
        "tfidf_vect = TfidfVectorizer(decode_error = 'ignore')\n",
        "vectors_train = tfidf_vect.fit_transform(X_train.values.astype('U'))\n",
        "vectors_test = tfidf_vect.transform(X_test.values.astype('U'))"
      ]
    },
    {
      "cell_type": "code",
      "source": [
        "print(\"n_samples: %d, n_features: %d\" % vectors_train.shape)"
      ],
      "metadata": {
        "id": "Ig7K1rDkyAy-"
      },
      "execution_count": null,
      "outputs": []
    },
    {
      "cell_type": "code",
      "source": [
        "f1_scores = []\n",
        "accuracy = []\n",
        "models = ['SVM', 'Random Forest', 'GaussianNB', 'LogisticRegression','KNN', 'xgboost']"
      ],
      "metadata": {
        "id": "f2zm582f25Uh"
      },
      "execution_count": null,
      "outputs": []
    },
    {
      "cell_type": "code",
      "execution_count": null,
      "metadata": {
        "id": "FBwoN3EQ25Uh"
      },
      "outputs": [],
      "source": [
        "#SVM\n",
        "from sklearn.svm import LinearSVC\n",
        "svm_model = LinearSVC()\n",
        "svm_model.fit(vectors_train, Y_train)\n",
        "predictions_SVM = svm_model.predict(vectors_test)\n",
        "print(classification_report(Y_test, predictions_SVM))"
      ]
    },
    {
      "cell_type": "code",
      "source": [
        "f1_svm = f1_score(Y_test, predictions_SVM, average='macro')\n",
        "f1_scores.append(f1_svm)\n",
        "accuracy.append(accuracy_score(Y_test, predictions_SVM))"
      ],
      "metadata": {
        "id": "XsYio8WT25Ui"
      },
      "execution_count": null,
      "outputs": []
    },
    {
      "cell_type": "code",
      "execution_count": null,
      "metadata": {
        "id": "6JL8_4gD25Ui"
      },
      "outputs": [],
      "source": [
        "#random forest\n",
        "from sklearn.ensemble import RandomForestClassifier\n",
        "forest_model = RandomForestClassifier()\n",
        "forest_model.fit(vectors_train, Y_train)\n",
        "pred_forst = forest_model.predict(vectors_test)\n",
        "print(classification_report(Y_test, pred_forst))"
      ]
    },
    {
      "cell_type": "code",
      "source": [
        "f1_forst = f1_score(Y_test, pred_forst, average='macro')\n",
        "f1_scores.append(f1_forst)\n",
        "accuracy.append(accuracy_score(Y_test, pred_forst))"
      ],
      "metadata": {
        "id": "e4K0E2Ga25Ui"
      },
      "execution_count": null,
      "outputs": []
    },
    {
      "cell_type": "code",
      "execution_count": null,
      "metadata": {
        "id": "VE9XwXMi25Ui"
      },
      "outputs": [],
      "source": [
        "#GaussianNB\n",
        "from sklearn.naive_bayes import GaussianNB\n",
        "gnb = GaussianNB()\n",
        "gnb.fit(vectors_train.toarray(), Y_train)\n",
        "pred_NB=gnb.predict(vectors_test.toarray())\n",
        "print(classification_report(Y_test, pred_NB))"
      ]
    },
    {
      "cell_type": "code",
      "source": [
        "f1_nb = f1_score(Y_test, pred_NB, average='macro')\n",
        "f1_scores.append(f1_nb)\n",
        "accuracy.append(accuracy_score(Y_test, pred_NB))"
      ],
      "metadata": {
        "id": "izpGZ2eL25Ui"
      },
      "execution_count": null,
      "outputs": []
    },
    {
      "cell_type": "code",
      "source": [
        "#LogisticRegression\n",
        "from sklearn.linear_model import LogisticRegression\n",
        "clf = LogisticRegression()\n",
        "clf.fit(vectors_train, Y_train)\n",
        "pred_clf = clf.predict(vectors_test)\n",
        "print(classification_report(Y_test, pred_clf))"
      ],
      "metadata": {
        "id": "RdpZnot225Ui"
      },
      "execution_count": null,
      "outputs": []
    },
    {
      "cell_type": "code",
      "source": [
        "f1_logest = f1_score(Y_test, pred_clf, average='macro')\n",
        "f1_scores.append(f1_logest)\n",
        "accuracy.append(accuracy_score(Y_test, pred_clf))"
      ],
      "metadata": {
        "id": "PAM2HCEi25Uj"
      },
      "execution_count": null,
      "outputs": []
    },
    {
      "cell_type": "code",
      "source": [
        "#KNN\n",
        "from sklearn.neighbors import KNeighborsClassifier\n",
        "knn_model = KNeighborsClassifier(n_neighbors=20)\n",
        "knn_model.fit(vectors_train, Y_train)\n",
        "pred_knn = knn_model.predict(vectors_test)\n",
        "print(classification_report(Y_test, pred_knn))"
      ],
      "metadata": {
        "id": "-Yxp12Qg25Uj"
      },
      "execution_count": null,
      "outputs": []
    },
    {
      "cell_type": "code",
      "source": [
        "f1_knn = f1_score(Y_test, pred_knn, average='macro')\n",
        "f1_scores.append(f1_knn)\n",
        "accuracy.append(accuracy_score(Y_test, pred_knn))"
      ],
      "metadata": {
        "id": "PmehTVHJ25Uj"
      },
      "execution_count": null,
      "outputs": []
    },
    {
      "cell_type": "code",
      "execution_count": null,
      "metadata": {
        "id": "FAKz-b8N25Uj"
      },
      "outputs": [],
      "source": [
        "#xgboost\n",
        "from xgboost import XGBClassifier\n",
        "XGB_model = XGBClassifier()\n",
        "XGB_model.fit(vectors_train, Y_train)\n",
        "pred_XGB = XGB_model.predict(vectors_test)\n",
        "print(classification_report(Y_test, pred_XGB))"
      ]
    },
    {
      "cell_type": "code",
      "source": [
        "f1_xgb = f1_score(Y_test, pred_XGB, average='macro')\n",
        "f1_scores.append(f1_xgb)\n",
        "accuracy.append(accuracy_score(Y_test, pred_XGB))"
      ],
      "metadata": {
        "id": "E4Et9fLW25Uj"
      },
      "execution_count": null,
      "outputs": []
    },
    {
      "cell_type": "markdown",
      "source": [
        "### <mark>This Result From TF-IDF Vectorizer <mark>"
      ],
      "metadata": {
        "id": "-lVnS8Xk25Uj"
      }
    },
    {
      "cell_type": "code",
      "source": [
        "compare = pd.DataFrame({'Models' : models , 'macro F1 score' : f1_scores, 'accuracy':accuracy})\n",
        "compare.sort_values(by='macro F1 score' , ascending=False)"
      ],
      "metadata": {
        "id": "3MFxD7zu25Uk"
      },
      "execution_count": null,
      "outputs": []
    },
    {
      "cell_type": "code",
      "source": [],
      "metadata": {
        "id": "DbzOD3QT8-6b"
      },
      "execution_count": null,
      "outputs": []
    },
    {
      "cell_type": "markdown",
      "source": [
        "#POS"
      ],
      "metadata": {
        "id": "4dA8CcXg5fjE"
      }
    },
    {
      "cell_type": "code",
      "source": [
        "# POS tag a sentence\n",
        "def pos_tag(sentence):\n",
        "  # Tokenize the sentence\n",
        "  tokens = nltk.word_tokenize(sentence)\n",
        "\n",
        "  # POS tag the tokens\n",
        "  tags = nltk.pos_tag(tokens)\n",
        "\n",
        "  return tags\n"
      ],
      "metadata": {
        "id": "8--8Hkuh2rie"
      },
      "execution_count": null,
      "outputs": []
    },
    {
      "cell_type": "code",
      "source": [
        "clean_task_A"
      ],
      "metadata": {
        "id": "t-Kf4TBF-TZP"
      },
      "execution_count": null,
      "outputs": []
    },
    {
      "cell_type": "code",
      "source": [
        "pos_text = []\n",
        "\n",
        "for text in clean_task_A['text']:\n",
        "  new_data = pos_tag(text)\n",
        "  pos_text.append(new_data)\n",
        "\n",
        "pos_data = pd.DataFrame({'text':pos_text, 'label_sexist':train_task_A['label_sexist']})\n",
        "pos_data"
      ],
      "metadata": {
        "id": "oOJF2akO-g_I"
      },
      "execution_count": null,
      "outputs": []
    },
    {
      "cell_type": "code",
      "source": [
        "pos_list = ['CC' , 'CD', 'DT', 'EX', 'FW', 'IN', 'JJ', 'JJR', 'JJS', 'LS', 'MD', 'NN', 'NNS', 'NNP', 'NNPS', 'PDT', 'POS', 'PRP',\n",
        "            'PRP$', 'RB', 'RBR', 'RBS', 'RP', 'TO', 'UH', 'VB', 'VBD', 'VBG', 'VBN', 'VBP', 'VBZ', 'WDT', 'WP', 'WP$', 'WRB']\n",
        "\n",
        "len(pos_list)"
      ],
      "metadata": {
        "id": "dJoVSY6XBHX-"
      },
      "execution_count": null,
      "outputs": []
    },
    {
      "cell_type": "code",
      "source": [
        "pos_data['text'] = pos_data['text'].apply(lambda x: [tag for word, tag in x if tag in pos_list])"
      ],
      "metadata": {
        "id": "TKGPbrcN9RFY"
      },
      "execution_count": null,
      "outputs": []
    },
    {
      "cell_type": "code",
      "source": [
        "strings_pos = []\n",
        "for item in pos_data['text']:\n",
        "  strings_pos.append(' '.join(item))"
      ],
      "metadata": {
        "id": "RttUrXiIDQzG"
      },
      "execution_count": null,
      "outputs": []
    },
    {
      "cell_type": "code",
      "source": [
        "pos_data['text'] = strings_pos"
      ],
      "metadata": {
        "id": "YXDrMzoeB9k5"
      },
      "execution_count": null,
      "outputs": []
    },
    {
      "cell_type": "code",
      "source": [
        "pos_data.head()"
      ],
      "metadata": {
        "id": "dCZD8jyCEv5r"
      },
      "execution_count": null,
      "outputs": []
    },
    {
      "cell_type": "code",
      "source": [
        "pos_data.to_csv('pos_data.csv', index=False)"
      ],
      "metadata": {
        "id": "AXvAzA5pUvr1"
      },
      "execution_count": null,
      "outputs": []
    },
    {
      "cell_type": "markdown",
      "source": [
        "##countvectorizer"
      ],
      "metadata": {
        "id": "20nFpky9DHQ7"
      }
    },
    {
      "cell_type": "code",
      "source": [
        "X = pos_data['text']\n",
        "y = pos_data['label_sexist']\n",
        "X_train, X_test, Y_train, Y_test = train_test_split(X, y, test_size=0.1, random_state=42)"
      ],
      "metadata": {
        "id": "yl7uWwDgEYwW"
      },
      "execution_count": null,
      "outputs": []
    },
    {
      "cell_type": "code",
      "source": [
        "vectorizer = CountVectorizer()\n",
        "vector_count_train = vectorizer.fit_transform(X_train.astype(str))\n",
        "vector_count_test = vectorizer.transform(X_test.astype(str))"
      ],
      "metadata": {
        "id": "kG_NEqIOCALa"
      },
      "execution_count": null,
      "outputs": []
    },
    {
      "cell_type": "code",
      "source": [
        "print(\"n_samples: %d, n_features: %d\" % vector_count_train.shape)"
      ],
      "metadata": {
        "id": "6-DrXqKAyQfj"
      },
      "execution_count": null,
      "outputs": []
    },
    {
      "cell_type": "code",
      "source": [
        "f1_scores = []\n",
        "accuracy = []\n",
        "models = ['SVM', 'Random Forest', 'GaussianNB', 'LogisticRegression','KNN', 'xgboost']"
      ],
      "metadata": {
        "id": "e2BgwvlfFTQt"
      },
      "execution_count": null,
      "outputs": []
    },
    {
      "cell_type": "markdown",
      "source": [
        "##modeling"
      ],
      "metadata": {
        "id": "RyY_1FoOHIEr"
      }
    },
    {
      "cell_type": "code",
      "execution_count": null,
      "metadata": {
        "id": "jsEcz8ybFTQt"
      },
      "outputs": [],
      "source": [
        "#SVM\n",
        "from sklearn.svm import LinearSVC\n",
        "svm_model = LinearSVC()\n",
        "svm_model.fit(vector_count_train, Y_train)\n",
        "predictions_SVM = svm_model.predict(vector_count_test)\n",
        "print(classification_report(Y_test, predictions_SVM))"
      ]
    },
    {
      "cell_type": "code",
      "source": [
        "f1_svm = f1_score(Y_test, predictions_SVM, average='macro')\n",
        "f1_scores.append(f1_svm)\n",
        "accuracy.append(accuracy_score(Y_test, predictions_SVM))"
      ],
      "metadata": {
        "id": "XaxQMEhIFTQu"
      },
      "execution_count": null,
      "outputs": []
    },
    {
      "cell_type": "code",
      "execution_count": null,
      "metadata": {
        "id": "Mo-m93cvFTQu"
      },
      "outputs": [],
      "source": [
        "#random forest\n",
        "from sklearn.ensemble import RandomForestClassifier\n",
        "forest_model = RandomForestClassifier()\n",
        "forest_model.fit(vector_count_train, Y_train)\n",
        "pred_forst = forest_model.predict(vector_count_test)\n",
        "print(classification_report(Y_test, pred_forst))"
      ]
    },
    {
      "cell_type": "code",
      "source": [
        "f1_forst = f1_score(Y_test, pred_forst, average='macro')\n",
        "f1_scores.append(f1_forst)\n",
        "accuracy.append(accuracy_score(Y_test, pred_forst))"
      ],
      "metadata": {
        "id": "JWV5fSsBFTQu"
      },
      "execution_count": null,
      "outputs": []
    },
    {
      "cell_type": "code",
      "execution_count": null,
      "metadata": {
        "id": "UliQBFKwFTQu"
      },
      "outputs": [],
      "source": [
        "#GaussianNB\n",
        "from sklearn.naive_bayes import GaussianNB\n",
        "gnb = GaussianNB()\n",
        "gnb.fit(vector_count_train.toarray(), Y_train)\n",
        "pred_NB=gnb.predict(vector_count_test.toarray())\n",
        "print(classification_report(Y_test, pred_NB))"
      ]
    },
    {
      "cell_type": "code",
      "source": [
        "f1_nb = f1_score(Y_test, pred_NB, average='macro')\n",
        "f1_scores.append(f1_nb)\n",
        "accuracy.append(accuracy_score(Y_test, pred_NB))"
      ],
      "metadata": {
        "id": "3v_qkYe2FTQu"
      },
      "execution_count": null,
      "outputs": []
    },
    {
      "cell_type": "code",
      "source": [
        "#LogisticRegression\n",
        "from sklearn.linear_model import LogisticRegression\n",
        "clf = LogisticRegression()\n",
        "clf.fit(vector_count_train, Y_train)\n",
        "pred_clf = clf.predict(vector_count_test)\n",
        "print(classification_report(Y_test, pred_clf))"
      ],
      "metadata": {
        "id": "Yd0Cg81DFTQu"
      },
      "execution_count": null,
      "outputs": []
    },
    {
      "cell_type": "code",
      "source": [
        "f1_logest = f1_score(Y_test, pred_clf, average='macro')\n",
        "f1_scores.append(f1_logest)\n",
        "accuracy.append(accuracy_score(Y_test, pred_clf))"
      ],
      "metadata": {
        "id": "upH27836FTQu"
      },
      "execution_count": null,
      "outputs": []
    },
    {
      "cell_type": "code",
      "source": [
        "#KNN\n",
        "from sklearn.neighbors import KNeighborsClassifier\n",
        "knn_model = KNeighborsClassifier(n_neighbors=20)\n",
        "knn_model.fit(vector_count_train, Y_train)\n",
        "pred_knn = knn_model.predict(vector_count_test)\n",
        "print(classification_report(Y_test, pred_knn))"
      ],
      "metadata": {
        "id": "fh_ECAEOFTQu"
      },
      "execution_count": null,
      "outputs": []
    },
    {
      "cell_type": "code",
      "source": [
        "f1_knn = f1_score(Y_test, pred_knn, average='macro')\n",
        "f1_scores.append(f1_knn)\n",
        "accuracy.append(accuracy_score(Y_test, pred_knn))"
      ],
      "metadata": {
        "id": "dF7nbvo0FTQu"
      },
      "execution_count": null,
      "outputs": []
    },
    {
      "cell_type": "code",
      "execution_count": null,
      "metadata": {
        "id": "-qjMlVHsFTQu"
      },
      "outputs": [],
      "source": [
        "#xgboost\n",
        "from xgboost import XGBClassifier\n",
        "XGB_model = XGBClassifier()\n",
        "XGB_model.fit(vector_count_train, Y_train)\n",
        "pred_XGB = XGB_model.predict(vector_count_test)\n",
        "print(classification_report(Y_test, pred_XGB))"
      ]
    },
    {
      "cell_type": "code",
      "source": [
        "f1_xgb = f1_score(Y_test, pred_XGB, average='macro')\n",
        "f1_scores.append(f1_xgb)\n",
        "accuracy.append(accuracy_score(Y_test, pred_XGB))"
      ],
      "metadata": {
        "id": "-bWRHe3AFTQv"
      },
      "execution_count": null,
      "outputs": []
    },
    {
      "cell_type": "markdown",
      "source": [
        "### <mark>this result after using pos tagging and count vectorizer<mark>"
      ],
      "metadata": {
        "id": "RHJj_8U4Fu9u"
      }
    },
    {
      "cell_type": "code",
      "source": [
        "compare = pd.DataFrame({'Models' : models , 'macro F1 score' : f1_scores, 'accuracy':accuracy})\n",
        "compare.sort_values(by='macro F1 score' , ascending=False)"
      ],
      "metadata": {
        "id": "frBUNrFRFDjn"
      },
      "execution_count": null,
      "outputs": []
    },
    {
      "cell_type": "markdown",
      "source": [
        "#trying all model"
      ],
      "metadata": {
        "id": "DNlolVrvM6pk"
      }
    },
    {
      "cell_type": "code",
      "source": [
        "# X = train['text']\n",
        "# y = train['label_sexist']\n",
        "# X_train, X_test, Y_train, Y_test = train_test_split(X, y, test_size=0.1, random_state=42)\n",
        "# vectorizer = CountVectorizer()\n",
        "# x_train = vectorizer.fit_transform(X_train.values.astype('U')).todense()\n",
        "# x_test = vectorizer.transform(X_test.values.astype('U')).todense()"
      ],
      "metadata": {
        "id": "9_a1JDdXWyxO"
      },
      "execution_count": null,
      "outputs": []
    },
    {
      "cell_type": "code",
      "source": [
        "# !pip3 install lazypredict\n",
        "# from lazypredict.Supervised import LazyClassifier"
      ],
      "metadata": {
        "id": "x9cilEddFtBM"
      },
      "execution_count": null,
      "outputs": []
    },
    {
      "cell_type": "code",
      "source": [
        "# clf = LazyClassifier(verbose=0, ignore_warnings=True, custom_metric=None)"
      ],
      "metadata": {
        "id": "FZ1WVfODNT5t"
      },
      "execution_count": null,
      "outputs": []
    },
    {
      "cell_type": "code",
      "source": [
        "# model, predictions = clf.fit(x_train, x_test, Y_train, Y_test)"
      ],
      "metadata": {
        "id": "WsWu6oKGN8jM"
      },
      "execution_count": null,
      "outputs": []
    },
    {
      "cell_type": "code",
      "source": [
        "# model"
      ],
      "metadata": {
        "id": "a6_g6Em9Omm0"
      },
      "execution_count": null,
      "outputs": []
    },
    {
      "cell_type": "code",
      "source": [],
      "metadata": {
        "id": "zec3liM5X_n-"
      },
      "execution_count": null,
      "outputs": []
    }
  ],
  "metadata": {
    "colab": {
      "provenance": []
    },
    "kernelspec": {
      "display_name": "Python 3",
      "name": "python3"
    },
    "language_info": {
      "name": "python"
    },
    "gpuClass": "standard"
  },
  "nbformat": 4,
  "nbformat_minor": 0
}